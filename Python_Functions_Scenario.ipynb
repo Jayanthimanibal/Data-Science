{
 "cells": [
  {
   "cell_type": "markdown",
   "id": "63cfc1da-f64c-4053-b568-8ac5c7d5ee7a",
   "metadata": {},
   "source": [
    "# Scenario 1:\n",
    "\n",
    "## Create a function called pongal_planner  \n",
    "## That takes a festival name as an argument\n",
    "## And returns a list of essential items needed for that day"
   ]
  },
  {
   "cell_type": "code",
   "execution_count": 2,
   "id": "13ed51e6-a9b2-47b1-b095-b349d4eb1ce1",
   "metadata": {},
   "outputs": [
    {
     "name": "stdout",
     "output_type": "stream",
     "text": [
      "Essentials for Thai Pongal: ['Rice', 'Milk', 'Jaggery', 'Clay pot', 'Banana leaves', 'Sugarcane']\n"
     ]
    }
   ],
   "source": [
    "def pongal_planner(festival_name):\n",
    "    \"\"\"This function returns essential items based on the Pongal festival type.\"\"\"\n",
    "    \n",
    "    items = {\n",
    "        \"Bhogi\": [\"Old items to discard\", \"Bonfire materials\", \"New clothes\"],\n",
    "        \"Thai Pongal\": [\"Rice\", \"Milk\", \"Jaggery\", \"Clay pot\", \"Banana leaves\", \"Sugarcane\"],\n",
    "        \"Mattu Pongal\": [\"Turmeric\", \"Coconut\", \"Garlands for cows\", \"Pooja items\"],\n",
    "        \"Kaanum Pongal\": [\"Snacks\", \"Betel leaves\", \"Fruits\", \"Family outing plans\"]\n",
    "    }\n",
    "    \n",
    "    return items.get(festival_name, \"Invalid festival name. Please enter Bhogi, Thai Pongal, Mattu Pongal, or Kaanum Pongal.\")\n",
    "\n",
    "# Example usage\n",
    "festival = \"Thai Pongal\"\n",
    "essentials = pongal_planner(festival)\n",
    "\n",
    "print(f\"Essentials for {festival}: {essentials}\")\n"
   ]
  },
  {
   "cell_type": "code",
   "execution_count": 5,
   "id": "46552848-7c57-47f1-8121-543bc7da75f3",
   "metadata": {},
   "outputs": [
    {
     "name": "stdin",
     "output_type": "stream",
     "text": [
      "Enter the Pongal festival type (Bhogi, Thai Pongal, Mattu Pongal, Kaanum Pongal):  tyl;\n"
     ]
    },
    {
     "name": "stdout",
     "output_type": "stream",
     "text": [
      "Essentials for tyl;: Invalid festival name. Please enter Bhogi, Thai Pongal, Mattu Pongal, or Kaanum Pongal.\n"
     ]
    }
   ],
   "source": [
    "def pongal_planner(festival_name):\n",
    "    \n",
    "    items = {\n",
    "        \"Bhogi\": [\"Old items to discard\", \"Bonfire materials\", \"New clothes\"],\n",
    "        \"Thai Pongal\": [\"Rice\", \"Milk\", \"Jaggery\", \"Clay pot\", \"Banana leaves\", \"Sugarcane\"],\n",
    "        \"Mattu Pongal\": [\"Turmeric\", \"Coconut\", \"Garlands for cows\", \"Pooja items\"],\n",
    "        \"Kaanum Pongal\": [\"Snacks\", \"Betel leaves\", \"Fruits\", \"Family outing plans\"]\n",
    "    }\n",
    "    \n",
    "    return items.get(festival_name, \"Invalid festival name. Please enter Bhogi, Thai Pongal, Mattu Pongal, or Kaanum Pongal.\")\n",
    "\n",
    "# Get runtime input from the user\n",
    "festival = input(\"Enter the Pongal festival type (Bhogi, Thai Pongal, Mattu Pongal, Kaanum Pongal): \")\n",
    "\n",
    "# Call the function with user input\n",
    "essentials = pongal_planner(festival)\n",
    "\n",
    "print(f\"Essentials for {festival}: {essentials}\")\n"
   ]
  },
  {
   "cell_type": "code",
   "execution_count": 6,
   "id": "1dcb9649-979f-4040-87dc-490d721870d5",
   "metadata": {},
   "outputs": [
    {
     "name": "stdout",
     "output_type": "stream",
     "text": [
      "Choose a Pongal festival type: Bhogi, Thai Pongal, Mattu Pongal, Kaanum Pongal\n"
     ]
    },
    {
     "name": "stdin",
     "output_type": "stream",
     "text": [
      "Enter the festival name:  rtyuu\n"
     ]
    },
    {
     "name": "stdout",
     "output_type": "stream",
     "text": [
      "Essentials for rtyuu: Invalid festival name. Please enter Bhogi, Thai Pongal, Mattu Pongal, or Kaanum Pongal.\n"
     ]
    }
   ],
   "source": [
    "def pongal_planner():\n",
    " \n",
    "    \n",
    "    items = {\n",
    "        \"Bhogi\": [\"Old items to discard\", \"Bonfire materials\", \"New clothes\"],\n",
    "        \"Thai Pongal\": [\"Rice\", \"Milk\", \"Jaggery\", \"Clay pot\", \"Banana leaves\", \"Sugarcane\"],\n",
    "        \"Mattu Pongal\": [\"Turmeric\", \"Coconut\", \"Garlands for cows\", \"Pooja items\"],\n",
    "        \"Kaanum Pongal\": [\"Snacks\", \"Betel leaves\", \"Fruits\", \"Family outing plans\"]\n",
    "    }\n",
    "    \n",
    "    print(\"Choose a Pongal festival type: Bhogi, Thai Pongal, Mattu Pongal, Kaanum Pongal\")\n",
    "    festival_name = input(\"Enter the festival name: \").strip()\n",
    "    \n",
    "    essentials = items.get(festival_name, \"Invalid festival name. Please enter Bhogi, Thai Pongal, Mattu Pongal, or Kaanum Pongal.\")\n",
    "    \n",
    "    print(f\"Essentials for {festival_name}: {essentials}\")\n",
    "\n",
    "# Run the function\n",
    "pongal_planner()\n"
   ]
  },
  {
   "cell_type": "markdown",
   "id": "db215c1d-da29-4227-85b2-c3361b793169",
   "metadata": {},
   "source": [
    "# Scenario 2:\n",
    "# Movie Recommendation System\n",
    "\n",
    "##  You are building a movie recommendation system. \n",
    "##  Write a Python function that suggests a movie based on the user’s mood (e.g., happy, sad, adventure, romantic)."
   ]
  },
  {
   "cell_type": "code",
   "execution_count": 7,
   "id": "9ce48b40-b71e-4bee-8ea7-2b6589d7e36b",
   "metadata": {},
   "outputs": [
    {
     "name": "stdout",
     "output_type": "stream",
     "text": [
      "Recommended Tamil movie: Aayirathil Oruvan (2010) – A mystery-adventure thriller\n"
     ]
    }
   ],
   "source": [
    "def movie_recommendation(mood):\n",
    "    \"\"\"Suggests a Tamil movie based on the user's mood.\"\"\"\n",
    "    \n",
    "    movies = {\n",
    "        \"happy\": \"Friends (2001) – A fun-filled friendship story\",\n",
    "        \"sad\": \"96 (2018) – A nostalgic love story\",\n",
    "        \"adventure\": \"Aayirathil Oruvan (2010) – A mystery-adventure thriller\",\n",
    "        \"romantic\": \"Vinnaithaandi Varuvaayaa (2010) – A classic love story\"\n",
    "    }\n",
    "    \n",
    "    return movies.get(mood, \"Mood not found. Try happy, sad, adventure, or romantic.\")\n",
    "\n",
    "# Example Usage\n",
    "user_mood = \"adventure\"\n",
    "movie = movie_recommendation(user_mood)\n",
    "\n",
    "print(f\"Recommended Tamil movie: {movie}\")\n"
   ]
  },
  {
   "cell_type": "code",
   "execution_count": null,
   "id": "cf7cae6e-5ff9-46db-8ff7-455308e0da8e",
   "metadata": {},
   "outputs": [],
   "source": []
  }
 ],
 "metadata": {
  "kernelspec": {
   "display_name": "Python 3 (ipykernel)",
   "language": "python",
   "name": "python3"
  },
  "language_info": {
   "codemirror_mode": {
    "name": "ipython",
    "version": 3
   },
   "file_extension": ".py",
   "mimetype": "text/x-python",
   "name": "python",
   "nbconvert_exporter": "python",
   "pygments_lexer": "ipython3",
   "version": "3.12.4"
  }
 },
 "nbformat": 4,
 "nbformat_minor": 5
}
