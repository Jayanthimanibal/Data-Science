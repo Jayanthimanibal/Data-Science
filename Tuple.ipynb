{
  "nbformat": 4,
  "nbformat_minor": 0,
  "metadata": {
    "colab": {
      "provenance": []
    },
    "kernelspec": {
      "name": "python3",
      "display_name": "Python 3"
    },
    "language_info": {
      "name": "python"
    }
  },
  "cells": [
    {
      "cell_type": "code",
      "execution_count": null,
      "metadata": {
        "colab": {
          "base_uri": "https://localhost:8080/"
        },
        "id": "jFXlktUYc1cm",
        "outputId": "65a8dbd3-0f08-4bd8-8bf0-26fd5da92ff3"
      },
      "outputs": [
        {
          "output_type": "stream",
          "name": "stdout",
          "text": [
            "TASK 1:\n",
            "Create a tuple values: (10, 20, 30, 40, 50)\n",
            "acess the 1 and last element of the tuple: (20, 30, 40)\n",
            "Fetch the values of 1 to 4 index: (20, 30, 40, 50)\n",
            "concatenate of the tuples: (1, 2, 3, 4, 10, 20, 30, 40, 50)\n",
            "length of the tuple: 5\n",
            "check if an element exit in the tuple: True\n"
          ]
        }
      ],
      "source": [
        "print(\"TASK 1:\")\n",
        "\n",
        "a=tuple(range(10,60,10))\n",
        "print(\"Create a tuple values:\",a)\n",
        "\n",
        "b=a[1:-1]\n",
        "print(\"acess the 1 and last element of the tuple:\",b)\n",
        "\n",
        "c=a[1:5]\n",
        "print(\"Fetch the values of 1 to 4 index:\",c)\n",
        "\n",
        "d=tuple(range(1,5,1))\n",
        "print(\"concatenate of the tuples:\",d+a)\n",
        "\n",
        "e=len(a)\n",
        "print(\"length of the tuple:\",e)\n",
        "\n",
        "f=20 in a #Type casting\n",
        "print(\"check if an element exit in the tuple:\",f)"
      ]
    },
    {
      "cell_type": "code",
      "source": [
        "print(\"TASK:2\")\n",
        "\n",
        "a=(10,20,30,20,40,20,50)\n",
        "print(\"The tuple values are;\",a)\n",
        "\n",
        "b=a.count(20)\n",
        "print(\"COunt occurance of element 20 in the tuple:\",b)\n",
        "\n",
        "c=a.index(40)\n",
        "print(\"Index of element 40 in the tuple:\",c)\n"
      ],
      "metadata": {
        "colab": {
          "base_uri": "https://localhost:8080/"
        },
        "id": "vvaW5bNUdQLS",
        "outputId": "b67e43c7-ae0d-4915-b4c8-423278c061a1"
      },
      "execution_count": null,
      "outputs": [
        {
          "output_type": "stream",
          "name": "stdout",
          "text": [
            "TASK:2\n",
            "The tuple values are; (10, 20, 30, 20, 40, 20, 50)\n",
            "COunt occurance of element 20 in the tuple: 3\n",
            "Index of element 40 in the tuple: 4\n"
          ]
        }
      ]
    },
    {
      "cell_type": "code",
      "source": [
        "print(\"TASK:3\")\n",
        "\n",
        "a=list(range(1,10))\n",
        "b=tuple(a)\n",
        "print(\"Convert list into Tuple:\",b)\n",
        "\n",
        "c=min(a)\n",
        "print(\"Min value from the tuple:\",c)\n",
        "\n",
        "d=max(a)\n",
        "print(\"Max value from the tuple:\",d)\n",
        "\n",
        "e=sum(a)\n",
        "print(\"Sum of all elements from the tuple:\",e)"
      ],
      "metadata": {
        "colab": {
          "base_uri": "https://localhost:8080/"
        },
        "id": "l9wcoW8Jg9GP",
        "outputId": "79946f58-2b1a-4e19-a1bb-bbe6a84538a5"
      },
      "execution_count": null,
      "outputs": [
        {
          "output_type": "stream",
          "name": "stdout",
          "text": [
            "TASK:3\n",
            "Convert list into Tuple: (1, 2, 3, 4, 5, 6, 7, 8, 9)\n",
            "Min value from the tuple: 1\n",
            "Max value from the tuple: 9\n",
            "Sum of all elements from the tuple: 45\n"
          ]
        }
      ]
    },
    {
      "cell_type": "code",
      "source": [
        "print(\"TASK 4\")\n",
        "\n",
        "a=(\"Jayanthi\")\n",
        "b=tuple(a)\n",
        "print(\"Convert string into tuple:\",b)\n",
        "\n",
        "c=\"\".join(set(a))\n",
        "print(\"remove duplicate values from the tuple:\",c)\n",
        "\n",
        "d=a+c\n",
        "print(\"concatenate two tuples:\",d)\n",
        "\n",
        "e=a*3\n",
        "print(\"Repeat the tuple three times:\",e)\n",
        "\n",
        "del a\n",
        "print(\"Delete the tuple:\",d)\n"
      ],
      "metadata": {
        "colab": {
          "base_uri": "https://localhost:8080/"
        },
        "id": "absBvAZeiLah",
        "outputId": "b984101c-7cf6-4c2f-812a-32ad402f49df"
      },
      "execution_count": 4,
      "outputs": [
        {
          "output_type": "stream",
          "name": "stdout",
          "text": [
            "TASK 4\n",
            "Convert string into tuple: ('J', 'a', 'y', 'a', 'n', 't', 'h', 'i')\n",
            "remove duplicate values from the tuple: hJiatny\n",
            "concatenate two tuples: JayanthihJiatny\n",
            "Repeat the tuple three times: JayanthiJayanthiJayanthi\n",
            "Delete the tuple: JayanthihJiatny\n"
          ]
        }
      ]
    }
  ]
}