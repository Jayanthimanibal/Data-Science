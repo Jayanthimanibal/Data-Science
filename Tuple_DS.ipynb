{
 "cells": [
  {
   "cell_type": "markdown",
   "id": "bcd56c7d-75ab-4bc2-b36d-f1834e68d150",
   "metadata": {},
   "source": [
    "# Question: 1\n",
    "## Write a Python program to demonstrate the following tuple operations:\n",
    "\n",
    "### 1. Create a tuple of integers.\n",
    "### 2. Access elements of the tuple.\n",
    "### 3. Perform slicing on the tuple.\n",
    "### 4. Concatenate two tuples.\n",
    "### 5. Find the length of the tuple.\n",
    "### 6. Check if an element exists in the tuple."
   ]
  },
  {
   "cell_type": "code",
   "execution_count": 1,
   "id": "d5a98e65-c247-486a-8b76-05cf9297f6ec",
   "metadata": {},
   "outputs": [
    {
     "name": "stdout",
     "output_type": "stream",
     "text": [
      "Original tuple: (10, 20, 30, 40, 50)\n",
      "First element: 10\n",
      "Last element: 50\n",
      "Sliced tuple (index 1 to 3): (20, 30, 40)\n",
      "Concatenated tuple: (10, 20, 30, 40, 50, 60, 70, 80)\n",
      "Length of the original tuple: 5\n",
      "Does 30 exist in the tuple?: True\n"
     ]
    }
   ],
   "source": [
    "# 1. Create a tuple of integers\n",
    "my_tuple = (10, 20, 30, 40, 50)\n",
    "print(\"Original tuple:\", my_tuple)\n",
    "\n",
    "# 2. Access elements of the tuple\n",
    "first_element = my_tuple[0]\n",
    "last_element = my_tuple[-1]\n",
    "print(\"First element:\", first_element)\n",
    "print(\"Last element:\", last_element)\n",
    "\n",
    "# 3. Perform slicing on the tuple\n",
    "sliced_tuple = my_tuple[1:4]  # Slice from index 1 to 3 (4 is excluded)\n",
    "print(\"Sliced tuple (index 1 to 3):\", sliced_tuple)\n",
    "\n",
    "# 4. Concatenate two tuples\n",
    "another_tuple = (60, 70, 80)\n",
    "concatenated_tuple = my_tuple + another_tuple\n",
    "print(\"Concatenated tuple:\", concatenated_tuple)\n",
    "\n",
    "# 5. Find the length of the tuple\n",
    "tuple_length = len(my_tuple)\n",
    "print(\"Length of the original tuple:\", tuple_length)\n",
    "\n",
    "# 6. Check if an element exists in the tuple\n",
    "element_exists = 30 in my_tuple\n",
    "print(\"Does 30 exist in the tuple?:\", element_exists)\n"
   ]
  },
  {
   "cell_type": "markdown",
   "id": "66bb939d-b630-4cee-91d6-910066878cfe",
   "metadata": {},
   "source": [
    "# Question 2:\n",
    "## Write a Python program to demonstrate the use of the following tuple methods:\n",
    "\n",
    "### 1. Count the occurrences of a specific element in a tuple.\n",
    "## 2. Find the index of a specific element in a tuple."
   ]
  },
  {
   "cell_type": "code",
   "execution_count": 3,
   "id": "4e0afa2a-0be6-48d4-a67a-98ba7d7bb62f",
   "metadata": {},
   "outputs": [
    {
     "name": "stdout",
     "output_type": "stream",
     "text": [
      "Number of times 20 occurs in the tuple: 3\n",
      "Index of 40 in the tuple: 4\n"
     ]
    }
   ],
   "source": [
    "# Create a tuple\n",
    "my_tuple = (10, 20, 30, 20, 40, 20, 50)\n",
    "\n",
    "# 1. Count the occurrences of a specific element in the tuple\n",
    "count_of_20 = my_tuple.count(20)\n",
    "print(\"Number of times 20 occurs in the tuple:\", count_of_20)\n",
    "\n",
    "# 2. Find the index of a specific element in the tuple (first occurrence)\n",
    "index_of_40 = my_tuple.index(40)\n",
    "print(\"Index of 40 in the tuple:\", index_of_40)\n"
   ]
  },
  {
   "cell_type": "markdown",
   "id": "516c7d89-afe5-4f5d-bb05-a63f125a24a8",
   "metadata": {},
   "source": [
    "# Question 2:\n",
    "## Write a Python program to demonstrate the following tuple operations:\n",
    "\n",
    "### 1. Convert a list into a tuple.\n",
    "### 2. Iterate through a tuple using a for loop.\n",
    "### 3. Use tuple unpacking to assign values to variables."
   ]
  },
  {
   "cell_type": "code",
   "execution_count": 2,
   "id": "71ed8ed1-543e-4cee-87b9-0a7dcab10bf4",
   "metadata": {},
   "outputs": [
    {
     "name": "stdout",
     "output_type": "stream",
     "text": [
      "Tuple converted from list: (1, 2, 3, 4, 5)\n",
      "Iterating through the tuple:\n",
      "1 2 3 4 5 \n",
      "Unpacked values: a = 1 , b = 2 , c = 3 , d = 4 , e = 5\n"
     ]
    }
   ],
   "source": [
    "# 1. Convert a list into a tuple\n",
    "my_list = [1, 2, 3, 4, 5]\n",
    "my_tuple = tuple(my_list)\n",
    "print(\"Tuple converted from list:\", my_tuple)\n",
    "\n",
    "# 2. Iterate through the tuple\n",
    "print(\"Iterating through the tuple:\")\n",
    "for item in my_tuple:\n",
    "    print(item, end=\" \")\n",
    "print()\n",
    "\n",
    "# 3. Use tuple unpacking to assign values to variables\n",
    "a, b, c, d, e = my_tuple\n",
    "print(\"Unpacked values: a =\", a, \", b =\", b, \", c =\", c, \", d =\", d, \", e =\", e)\n"
   ]
  },
  {
   "cell_type": "markdown",
   "id": "0b66b1ce-55bb-4d58-9757-4dc7f8818569",
   "metadata": {},
   "source": [
    "# Question 6:\n",
    "## Write a Python program to demonstrate the use of min(), max(), and sum() functions on a tuple:\n",
    "\n",
    "### 1. Find the minimum and maximum value in a tuple.\n",
    "### 2. Find the sum of all elements in a tuple."
   ]
  },
  {
   "cell_type": "code",
   "execution_count": 3,
   "id": "7121ace6-5b83-467a-b4d6-7f8ed63cb0b9",
   "metadata": {},
   "outputs": [
    {
     "name": "stdout",
     "output_type": "stream",
     "text": [
      "Minimum value in the tuple: 5\n",
      "Maximum value in the tuple: 40\n",
      "Sum of all elements in the tuple: 90\n"
     ]
    }
   ],
   "source": [
    "# Create a tuple of numbers\n",
    "numbers_tuple = (10, 20, 5, 40, 15)\n",
    "\n",
    "# 1. Find the minimum value in the tuple\n",
    "min_value = min(numbers_tuple)\n",
    "print(\"Minimum value in the tuple:\", min_value)\n",
    "\n",
    "# 2. Find the maximum value in the tuple\n",
    "max_value = max(numbers_tuple)\n",
    "print(\"Maximum value in the tuple:\", max_value)\n",
    "\n",
    "# 3. Find the sum of all elements in the tuple\n",
    "total_sum = sum(numbers_tuple)\n",
    "print(\"Sum of all elements in the tuple:\", total_sum)\n"
   ]
  },
  {
   "cell_type": "markdown",
   "id": "c493943a-1127-4998-9d8f-67a19d07a5bb",
   "metadata": {},
   "source": [
    "# Question 5:\n",
    "## Write a Python program to demonstrate type conversion with tuples:\n",
    "\n",
    "### Convert a string into a tuple.\n",
    "### Convert a tuple into a set (removes duplicates)."
   ]
  },
  {
   "cell_type": "code",
   "execution_count": null,
   "id": "40358f60-0cc8-4f21-b776-8bf10f98f1b2",
   "metadata": {},
   "outputs": [],
   "source": [
    "# 1. Convert a string into a tuple\n",
    "string = \"hello\"\n",
    "tuple_from_string = tuple(string)\n",
    "print(\"Tuple from string:\", tuple_from_string)\n",
    "\n",
    "# 2. Convert a tuple into a set (removes duplicates)\n",
    "my_tuple = (1, 2, 2, 3, 4, 4, 5)\n",
    "tuple_to_set = set(my_tuple)\n",
    "print(\"Set from tuple (duplicates removed):\", tuple_to_set)\n"
   ]
  },
  {
   "cell_type": "markdown",
   "id": "ba4cc9fe-17f5-4696-a1ac-931f04184bae",
   "metadata": {},
   "source": [
    "# Question 4:\n",
    "## Write a Python program to demonstrate tuple concatenation, repetition, and deletion:\n",
    "\n",
    "### Concatenate two tuples.\n",
    "### Repeat a tuple multiple times.\n",
    "### Delete a tuple completely."
   ]
  },
  {
   "cell_type": "code",
   "execution_count": 4,
   "id": "c330fc7c-f7f0-4624-9d84-b05db5b1eb9a",
   "metadata": {},
   "outputs": [
    {
     "name": "stdout",
     "output_type": "stream",
     "text": [
      "Concatenated tuple: (10, 20, 30, 40, 50, 60)\n",
      "Repeated tuple: (10, 20, 30, 10, 20, 30, 10, 20, 30)\n"
     ]
    }
   ],
   "source": [
    "# 1. Concatenate two tuples\n",
    "tuple1 = (10, 20, 30)\n",
    "tuple2 = (40, 50, 60)\n",
    "\n",
    "concatenated_tuple = tuple1 + tuple2\n",
    "print(\"Concatenated tuple:\", concatenated_tuple)\n",
    "\n",
    "# 2. Repeat a tuple multiple times\n",
    "repeated_tuple = tuple1 * 3\n",
    "print(\"Repeated tuple:\", repeated_tuple)\n",
    "\n",
    "# 3. Delete a tuple (tuples are immutable, but you can delete the entire reference)\n",
    "del tuple1  # This deletes the tuple variable\n",
    "# print(tuple1)  # Uncommenting this line will throw an error because tuple1 no longer exists\n"
   ]
  },
  {
   "cell_type": "code",
   "execution_count": null,
   "id": "07d8028d-6334-40b5-a167-f8250ffaa04d",
   "metadata": {},
   "outputs": [],
   "source": []
  }
 ],
 "metadata": {
  "kernelspec": {
   "display_name": "Python 3 (ipykernel)",
   "language": "python",
   "name": "python3"
  },
  "language_info": {
   "codemirror_mode": {
    "name": "ipython",
    "version": 3
   },
   "file_extension": ".py",
   "mimetype": "text/x-python",
   "name": "python",
   "nbconvert_exporter": "python",
   "pygments_lexer": "ipython3",
   "version": "3.12.4"
  }
 },
 "nbformat": 4,
 "nbformat_minor": 5
}
