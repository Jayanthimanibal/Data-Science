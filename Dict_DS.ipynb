{
 "cells": [
  {
   "cell_type": "markdown",
   "id": "dd33f9e0-4de2-46c7-b6ae-577d2f45aa56",
   "metadata": {},
   "source": [
    "# Question 1:\n",
    "\n",
    "## Write a Python program to demonstrate the following dictionary operations:\n",
    "\n",
    "### 1. Create a dictionary that stores districts of Tamil Nadu and their population.\n",
    "### 2. Add a new district and its population to the dictionary.\n",
    "### 3. Update the population of an existing district.\n",
    "### 4. Delete a district from the dictionary.\n",
    "### 5. Display all districts and their population using a loop.\n",
    "### 6. Check if a specific district is in the dictionary.\n",
    "### 7. Get the population of a specific district using the get() method."
   ]
  },
  {
   "cell_type": "code",
   "execution_count": 24,
   "id": "929a6d76-cf10-43e5-96e3-af516ed3eb7f",
   "metadata": {},
   "outputs": [
    {
     "name": "stdout",
     "output_type": "stream",
     "text": [
      "Initial Tamil Nadu Districts and Population: {'Chennai': 7.1, 'Coimbatore': 3.5, 'Madurai': 3.0, 'Tiruchirappalli': 2.8, 'Salem': 2.5}\n"
     ]
    }
   ],
   "source": [
    "# 1. Create a dictionary that stores districts of Tamil Nadu and their population (in millions)\n",
    "tamil_nadu_population = {\n",
    "    \"Chennai\": 7.1,\n",
    "    \"Coimbatore\": 3.5,\n",
    "    \"Madurai\": 3.0,\n",
    "    \"Tiruchirappalli\": 2.8,\n",
    "    \"Salem\": 2.5\n",
    "}\n",
    "\n",
    "print(\"Initial Tamil Nadu Districts and Population:\", tamil_nadu_population)\n",
    "\n"
   ]
  },
  {
   "cell_type": "code",
   "execution_count": 25,
   "id": "346ab528-08d6-4a90-83e9-1a8c488e1207",
   "metadata": {},
   "outputs": [
    {
     "name": "stdout",
     "output_type": "stream",
     "text": [
      "\n",
      "After adding Thanjavur: {'Chennai': 7.1, 'Coimbatore': 3.5, 'Madurai': 3.0, 'Tiruchirappalli': 2.8, 'Salem': 2.5, 'Thanjavur': 2.2}\n"
     ]
    }
   ],
   "source": [
    "# 2. Add a new district and its population\n",
    "tamil_nadu_population[\"Thanjavur\"] = 2.2\n",
    "print(\"\\nAfter adding Thanjavur:\", tamil_nadu_population)\n",
    "\n"
   ]
  },
  {
   "cell_type": "code",
   "execution_count": 26,
   "id": "1f18fa08-f7d2-4959-945a-61280354911e",
   "metadata": {},
   "outputs": [
    {
     "name": "stdout",
     "output_type": "stream",
     "text": [
      "\n",
      "After updating Madurai's population: {'Chennai': 7.1, 'Coimbatore': 3.5, 'Madurai': 3.1, 'Tiruchirappalli': 2.8, 'Salem': 2.5, 'Thanjavur': 2.2}\n"
     ]
    }
   ],
   "source": [
    "# 3. Update the population of an existing district (e.g., Madurai)\n",
    "tamil_nadu_population[\"Madurai\"] = 3.1\n",
    "print(\"\\nAfter updating Madurai's population:\", tamil_nadu_population)\n",
    "\n"
   ]
  },
  {
   "cell_type": "code",
   "execution_count": 27,
   "id": "72463097-0267-4a2d-8cd3-1c5efa28a36d",
   "metadata": {},
   "outputs": [
    {
     "name": "stdout",
     "output_type": "stream",
     "text": [
      "\n",
      "After deleting Salem: {'Chennai': 7.1, 'Coimbatore': 3.5, 'Madurai': 3.1, 'Tiruchirappalli': 2.8, 'Thanjavur': 2.2}\n"
     ]
    }
   ],
   "source": [
    "# 4. Delete a district from the dictionary (e.g., Salem)\n",
    "del tamil_nadu_population[\"Salem\"]\n",
    "print(\"\\nAfter deleting Salem:\", tamil_nadu_population)\n",
    "\n"
   ]
  },
  {
   "cell_type": "code",
   "execution_count": 28,
   "id": "449d82a7-3686-489c-a393-2fc39b0395c1",
   "metadata": {},
   "outputs": [
    {
     "name": "stdout",
     "output_type": "stream",
     "text": [
      "\n",
      "All Districts and their Population:\n",
      "Chennai: 7.1 million\n",
      "Coimbatore: 3.5 million\n",
      "Madurai: 3.1 million\n",
      "Tiruchirappalli: 2.8 million\n",
      "Thanjavur: 2.2 million\n"
     ]
    }
   ],
   "source": [
    "# 5. Display all districts and their population using a loop\n",
    "print(\"\\nAll Districts and their Population:\")\n",
    "for district, population in tamil_nadu_population.items():\n",
    "    print(f\"{district}: {population} million\")\n",
    "\n",
    "\n"
   ]
  },
  {
   "cell_type": "code",
   "execution_count": 29,
   "id": "aec37861-7f6d-485a-bd06-dcb17341cf57",
   "metadata": {},
   "outputs": [
    {
     "name": "stdout",
     "output_type": "stream",
     "text": [
      "\n",
      "Is Coimbatore in the dictionary?: True\n"
     ]
    }
   ],
   "source": [
    "# 6. Check if a specific district is in the dictionary (e.g., Coimbatore)\n",
    "district_check = \"Coimbatore\" in tamil_nadu_population\n",
    "print(\"\\nIs Coimbatore in the dictionary?:\", district_check)"
   ]
  },
  {
   "cell_type": "code",
   "execution_count": 30,
   "id": "c11618c0-fe4a-4743-bc5d-eb795166ebff",
   "metadata": {},
   "outputs": [
    {
     "name": "stdout",
     "output_type": "stream",
     "text": [
      "\n",
      "Population of Chennai: 7.1 million\n"
     ]
    }
   ],
   "source": [
    "# 7. Get the population of a specific district using the get() method (e.g., Chennai)\n",
    "chennai_population = tamil_nadu_population.get(\"Chennai\", \"District not found\")\n",
    "print(\"\\nPopulation of Chennai:\", chennai_population, \"million\")"
   ]
  },
  {
   "cell_type": "markdown",
   "id": "39f89b73-5b49-44c3-aa39-bdbddb1879ab",
   "metadata": {},
   "source": [
    "# Question 2:\n",
    "## Write a Python program to demonstrate merging two dictionaries:\n",
    "\n",
    "### 1. Create two dictionaries: one for northern Tamil Nadu \n",
    "###    districts and another for southern Tamil Nadu districts, along with their populations.\n",
    "### 2. Merge these two dictionaries into a single dictionary."
   ]
  },
  {
   "cell_type": "code",
   "execution_count": 31,
   "id": "ddef7262-cf2c-40b7-9206-2f789555907c",
   "metadata": {},
   "outputs": [
    {
     "name": "stdout",
     "output_type": "stream",
     "text": [
      "Merged Dictionary (Tamil Nadu Districts and Population): {'Chennai': 7.1, 'Vellore': 4.0, 'Kanchipuram': 3.5, 'Madurai': 3.1, 'Tirunelveli': 1.6, 'Tuticorin': 1.9}\n"
     ]
    }
   ],
   "source": [
    "# Northern Tamil Nadu districts with population (in millions)\n",
    "northern_tamil_nadu = {\n",
    "    \"Chennai\": 7.1,\n",
    "    \"Vellore\": 4.0,\n",
    "    \"Kanchipuram\": 3.5\n",
    "}\n",
    "\n",
    "# Southern Tamil Nadu districts with population (in millions)\n",
    "southern_tamil_nadu = {\n",
    "    \"Madurai\": 3.1,\n",
    "    \"Tirunelveli\": 1.6,\n",
    "    \"Tuticorin\": 1.9\n",
    "}\n",
    "\n",
    "# Merging the two dictionaries\n",
    "tamil_nadu_all = {**northern_tamil_nadu, **southern_tamil_nadu}\n",
    "print(\"Merged Dictionary (Tamil Nadu Districts and Population):\", tamil_nadu_all)\n"
   ]
  },
  {
   "cell_type": "markdown",
   "id": "eee40fa2-7ff6-4600-9946-a95775cb2298",
   "metadata": {},
   "source": [
    "# Question 3:\n",
    "## Write a Python program to demonstrate dictionary comprehension:\n",
    "\n",
    "#### 1. Create a dictionary where the keys are the names of Tamil Nadu districts, and the values are their populations.\n",
    "#### 2. Use dictionary comprehension to create a new dictionary that only contains districts with a population greater than 3 million."
   ]
  },
  {
   "cell_type": "code",
   "execution_count": 32,
   "id": "472f08d9-28dc-4fed-b255-deb3d97c93ea",
   "metadata": {},
   "outputs": [
    {
     "name": "stdout",
     "output_type": "stream",
     "text": [
      "Districts with population greater than 3 million: {'Chennai': 7.1, 'Coimbatore': 3.5, 'Madurai': 3.1}\n"
     ]
    }
   ],
   "source": [
    "# Districts with population in millions\n",
    "tamil_nadu_population = {\n",
    "    \"Chennai\": 7.1,\n",
    "    \"Coimbatore\": 3.5,\n",
    "    \"Madurai\": 3.1,\n",
    "    \"Tiruchirappalli\": 2.8,\n",
    "    \"Salem\": 2.5,\n",
    "    \"Thanjavur\": 2.2\n",
    "}\n",
    "\n",
    "# Dictionary comprehension to filter districts with population > 3 million\n",
    "large_districts = {district: population for district, population in tamil_nadu_population.items() if population > 3}\n",
    "print(\"Districts with population greater than 3 million:\", large_districts)\n"
   ]
  },
  {
   "cell_type": "markdown",
   "id": "24c1f805-037c-4557-8fc5-b2e2b7f32a17",
   "metadata": {},
   "source": [
    "# Question 4:\n",
    "##  Write a Python program to demonstrate the use of the keys(), values(), and items() methods:\n",
    "\n",
    "### 1.Create a dictionary that stores Tamil Nadu districts and their populations.\n",
    "### 2. Display all the keys (district names).\n",
    "### 3. Display all the values (populations).\n",
    "### 4. Display all the key-value pairs."
   ]
  },
  {
   "cell_type": "code",
   "execution_count": 33,
   "id": "3e702801-5440-4876-bc9c-84037fce6821",
   "metadata": {},
   "outputs": [
    {
     "name": "stdout",
     "output_type": "stream",
     "text": [
      "Districts: dict_keys(['Chennai', 'Coimbatore', 'Madurai', 'Tiruchirappalli'])\n",
      "Populations: dict_values([7.1, 3.5, 3.1, 2.8])\n",
      "Districts and their populations: dict_items([('Chennai', 7.1), ('Coimbatore', 3.5), ('Madurai', 3.1), ('Tiruchirappalli', 2.8)])\n"
     ]
    }
   ],
   "source": [
    "# Districts with population in millions\n",
    "tamil_nadu_population = {\n",
    "    \"Chennai\": 7.1,\n",
    "    \"Coimbatore\": 3.5,\n",
    "    \"Madurai\": 3.1,\n",
    "    \"Tiruchirappalli\": 2.8\n",
    "}\n",
    "\n",
    "# Display all keys (district names)\n",
    "print(\"Districts:\", tamil_nadu_population.keys())\n",
    "\n",
    "# Display all values (populations)\n",
    "print(\"Populations:\", tamil_nadu_population.values())\n",
    "\n",
    "# Display all key-value pairs\n",
    "print(\"Districts and their populations:\", tamil_nadu_population.items())\n"
   ]
  },
  {
   "cell_type": "markdown",
   "id": "621877bf-f31d-46a9-ab05-0502cdcea091",
   "metadata": {},
   "source": [
    "# Question 5:\n",
    "## Write a Python program to demonstrate how to find the district with the highest and lowest population:\n",
    "\n",
    "### 1. Create a dictionary that stores Tamil Nadu districts and their populations.\n",
    "### 2. Find the district with the highest population.\n",
    "### 3. Find the district with the lowest population"
   ]
  },
  {
   "cell_type": "code",
   "execution_count": 34,
   "id": "eff34c5e-e527-4c18-87a8-0bbff0e88da6",
   "metadata": {},
   "outputs": [
    {
     "name": "stdout",
     "output_type": "stream",
     "text": [
      "District with the highest population: Chennai\n",
      "District with the lowest population: Thanjavur\n"
     ]
    }
   ],
   "source": [
    "# Districts with population in millions\n",
    "tamil_nadu_population = {\n",
    "    \"Chennai\": 7.1,\n",
    "    \"Coimbatore\": 3.5,\n",
    "    \"Madurai\": 3.1,\n",
    "    \"Tiruchirappalli\": 2.8,\n",
    "    \"Thanjavur\": 2.2\n",
    "}\n",
    "\n",
    "# Finding the district with the highest population\n",
    "highest_population_district = max(tamil_nadu_population, key=tamil_nadu_population.get)\n",
    "print(\"District with the highest population:\", highest_population_district)\n",
    "\n",
    "# Finding the district with the lowest population\n",
    "lowest_population_district = min(tamil_nadu_population, key=tamil_nadu_population.get)\n",
    "print(\"District with the lowest population:\", lowest_population_district)\n"
   ]
  },
  {
   "cell_type": "markdown",
   "id": "d4ce8489-6cff-4084-8296-5c5d2afbb594",
   "metadata": {},
   "source": [
    "# Question 6:\n",
    "## Write a Python program to demonstrate the use of the setdefault() method:\n",
    "\n",
    "### 1. Create a dictionary that stores Tamil Nadu districts and their populations.\n",
    "### 2. Use setdefault() to add a new district and population if the district is not already present in the dictionary."
   ]
  },
  {
   "cell_type": "code",
   "execution_count": 35,
   "id": "12bca9d6-9941-45ce-b569-0a96c73caf2b",
   "metadata": {},
   "outputs": [
    {
     "name": "stdout",
     "output_type": "stream",
     "text": [
      "Dictionary after using setdefault(): {'Chennai': 7.1, 'Coimbatore': 3.5, 'Madurai': 3.1, 'Salem': 2.5}\n"
     ]
    }
   ],
   "source": [
    "# Districts with population in millions\n",
    "tamil_nadu_population = {\n",
    "    \"Chennai\": 7.1,\n",
    "    \"Coimbatore\": 3.5,\n",
    "    \"Madurai\": 3.1\n",
    "}\n",
    "\n",
    "# Using setdefault() to add a district if it's not already present\n",
    "tamil_nadu_population.setdefault(\"Salem\", 2.5)\n",
    "tamil_nadu_population.setdefault(\"Chennai\", 8.0)  # Chennai already exists, so no update\n",
    "\n",
    "print(\"Dictionary after using setdefault():\", tamil_nadu_population)\n"
   ]
  },
  {
   "cell_type": "markdown",
   "id": "03791815-3e3b-42e1-a216-f4c6ac5f827f",
   "metadata": {},
   "source": [
    "# Question 7:\n",
    "# Write a Python program to demonstrate nested dictionaries:\n",
    "\n",
    "### 1. Create a dictionary where each key is a district in Tamil Nadu, and the value is another dictionary storing the population and literacy rate of that district."
   ]
  },
  {
   "cell_type": "code",
   "execution_count": 36,
   "id": "41e4f8f6-2b72-4060-933b-bd6ed7a42890",
   "metadata": {},
   "outputs": [
    {
     "name": "stdout",
     "output_type": "stream",
     "text": [
      "\n",
      "District: Chennai\n",
      "Population: 7.1 million\n",
      "Literacy Rate: 90.2%\n",
      "\n",
      "District: Coimbatore\n",
      "Population: 3.5 million\n",
      "Literacy Rate: 84.0%\n",
      "\n",
      "District: Madurai\n",
      "Population: 3.1 million\n",
      "Literacy Rate: 81.7%\n",
      "\n",
      "District: Tirunelveli\n",
      "Population: 1.6 million\n",
      "Literacy Rate: 82.5%\n"
     ]
    }
   ],
   "source": [
    "# Nested dictionary storing population and literacy rate (in percentage)\n",
    "tamil_nadu_data = {\n",
    "    \"Chennai\": {\"population\": 7.1, \"literacy_rate\": 90.2},\n",
    "    \"Coimbatore\": {\"population\": 3.5, \"literacy_rate\": 84.0},\n",
    "    \"Madurai\": {\"population\": 3.1, \"literacy_rate\": 81.7},\n",
    "    \"Tirunelveli\": {\"population\": 1.6, \"literacy_rate\": 82.5}\n",
    "}\n",
    "\n",
    "# Display the data\n",
    "for district, info in tamil_nadu_data.items():\n",
    "    print(f\"\\nDistrict: {district}\")\n",
    "    print(f\"Population: {info['population']} million\")\n",
    "    print(f\"Literacy Rate: {info['literacy_rate']}%\")\n"
   ]
  },
  {
   "cell_type": "markdown",
   "id": "3d95d41c-9606-47fe-888c-ceb719e6c84a",
   "metadata": {},
   "source": [
    "# Question 8:\n",
    "# Write a Python program to demonstrate the use of the pop() and popitem() methods:\n",
    "\n",
    "### 1. Create a dictionary that stores Tamil Nadu districts and their populations.\n",
    "### 2. Remove a specific district using the pop() method.\n",
    "### 3. Remove the last key-value pair added to the dictionary using the popitem() method."
   ]
  },
  {
   "cell_type": "code",
   "execution_count": 37,
   "id": "29ceb355-2389-4af6-a28b-d06053c53d94",
   "metadata": {},
   "outputs": [
    {
     "name": "stdout",
     "output_type": "stream",
     "text": [
      "Removed 'Madurai' with population 3.1 million\n",
      "Removed last district: ('Tiruchirappalli', 2.8)\n",
      "Remaining Tamil Nadu Districts: {'Chennai': 7.1, 'Coimbatore': 3.5}\n"
     ]
    }
   ],
   "source": [
    "# Districts with population in millions\n",
    "tamil_nadu_population = {\n",
    "    \"Chennai\": 7.1,\n",
    "    \"Coimbatore\": 3.5,\n",
    "    \"Madurai\": 3.1,\n",
    "    \"Tiruchirappalli\": 2.8\n",
    "}\n",
    "\n",
    "# Remove a specific district using pop()\n",
    "removed_population = tamil_nadu_population.pop(\"Madurai\")\n",
    "print(f\"Removed 'Madurai' with population {removed_population} million\")\n",
    "\n",
    "# Remove the last key-value pair added using popitem()\n",
    "last_removed = tamil_nadu_population.popitem()\n",
    "print(f\"Removed last district: {last_removed}\")\n",
    "\n",
    "# Final dictionary state\n",
    "print(\"Remaining Tamil Nadu Districts:\", tamil_nadu_population)\n"
   ]
  },
  {
   "cell_type": "code",
   "execution_count": null,
   "id": "c85ee8ac-8f9a-491a-a171-e6e480ddc514",
   "metadata": {},
   "outputs": [],
   "source": []
  },
  {
   "cell_type": "code",
   "execution_count": null,
   "id": "1cd65ff3-9177-4908-b382-6973b4092f4b",
   "metadata": {},
   "outputs": [],
   "source": []
  }
 ],
 "metadata": {
  "kernelspec": {
   "display_name": "Python 3 (ipykernel)",
   "language": "python",
   "name": "python3"
  },
  "language_info": {
   "codemirror_mode": {
    "name": "ipython",
    "version": 3
   },
   "file_extension": ".py",
   "mimetype": "text/x-python",
   "name": "python",
   "nbconvert_exporter": "python",
   "pygments_lexer": "ipython3",
   "version": "3.12.4"
  }
 },
 "nbformat": 4,
 "nbformat_minor": 5
}
