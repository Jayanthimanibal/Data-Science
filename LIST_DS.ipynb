{
 "cells": [
  {
   "cell_type": "markdown",
   "id": "4652c854-6c7c-46f0-850f-b0ec2c9b8095",
   "metadata": {},
   "source": [
    "# Question 1\n",
    "# Write a Python program that performs the following operations on a list:\n",
    "\n",
    "### 1. Create a list of integers: [10, 20, 30, 40, 50]\n",
    "\n",
    "### 2. Append the number 60 to the list.\n",
    "\n",
    "### 3. Remove the second element from the list.\n",
    "\n",
    "### 4. Insert the number 25 at the second position.\n",
    "\n",
    "### 5. Sort the list in descending order.\n",
    "\n",
    "### 6. Find the length of the list.\n",
    "\n",
    "### 7. Access the last element in the list without using a negative index.\n"
   ]
  },
  {
   "cell_type": "code",
   "execution_count": null,
   "id": "cf9f14d4-f48c-48a5-b689-dfd3ecde8545",
   "metadata": {},
   "outputs": [],
   "source": [
    "# 1. Create a list of integers\n",
    "ex_list = [10, 20, 30, 40, 50]\n",
    "print(\"Initial list:\", ex_list)\n",
    "\n",
    "# 2. Append the number 60 to the list\n",
    "ex_list.append(60)\n",
    "print(\"After appending 60:\", ex_list)\n",
    "\n",
    "# 3. Remove the second element (index 1)\n",
    "ex_list.pop(1)\n",
    "print(\"After removing the second element:\", ex_list)\n",
    "\n",
    "# 4. Insert the number 25 at the second position (index 1)\n",
    "ex_list.insert(1, 25)\n",
    "print(\"After inserting 25 at the second position:\", ex_list)\n",
    "\n",
    "# 5. Sort the list in descending order\n",
    "ex_list.sort(reverse=True)\n",
    "print(\"List sorted in descending order:\", ex_list)\n",
    "\n",
    "# 6. Find the length of the list\n",
    "list_length = len(ex_list)\n",
    "print(\"Length of the list:\", list_length)\n",
    "\n",
    "# 7. Access the last element without using negative index\n",
    "last_element = ex_list[5]\n",
    "print(\"Last element in the list:\", last_element)\n"
   ]
  },
  {
   "cell_type": "markdown",
   "id": "d0dc81eb-12b7-4a8c-a9ff-aefcb37e99cf",
   "metadata": {},
   "source": [
    "# Question 2:\n",
    "## Create a list of fruits \n",
    "## \"apple\", \"banana\", \"cherry\", \"date\", \"elderberry\". Perform the following operations:\n",
    "\n",
    "### 1. Count how many times \"banana\" appears in the list.\n",
    "### 2. Extend the list by adding the elements from another list [\"fig\", \"grape\"].\n",
    "### 3. Reverse the list.\n",
    "### 4. Find the index of \"cherry\".\n",
    "### 5.Remove \"date\" from the list."
   ]
  },
  {
   "cell_type": "code",
   "execution_count": 17,
   "id": "0551a431-8590-411e-936b-d149516e5e57",
   "metadata": {},
   "outputs": [
    {
     "name": "stdout",
     "output_type": "stream",
     "text": [
      "Count of 'banana': 1\n",
      "After extending the list: ['apple', 'banana', 'cherry', 'date', 'elderberry', 'fig', 'grape']\n",
      "Reversed list: ['grape', 'fig', 'elderberry', 'date', 'cherry', 'banana', 'apple']\n",
      "Index of 'cherry': 4\n",
      "After removing 'date': ['grape', 'fig', 'elderberry', 'cherry', 'banana', 'apple']\n"
     ]
    }
   ],
   "source": [
    "# 1. Create a list of fruits\n",
    "fruits = [\"apple\", \"banana\", \"cherry\", \"date\", \"elderberry\"]\n",
    "\n",
    "# 2. Count how many times \"banana\" appears in the list\n",
    "banana_count = fruits.count(\"banana\")\n",
    "print(\"Count of 'banana':\", banana_count)\n",
    "\n",
    "# 3. Extend the list with another list\n",
    "fruits.extend([\"fig\", \"grape\"])\n",
    "print(\"After extending the list:\", fruits)\n",
    "\n",
    "# 4. Reverse the list\n",
    "fruits.reverse()\n",
    "print(\"Reversed list:\", fruits)\n",
    "\n",
    "# 5. Find the index of \"cherry\"\n",
    "cherry_index = fruits.index(\"cherry\")\n",
    "print(\"Index of 'cherry':\", cherry_index)\n",
    "\n",
    "# 6. Remove \"date\" from the list\n",
    "fruits.remove(\"date\")\n",
    "print(\"After removing 'date':\", fruits)\n"
   ]
  },
  {
   "cell_type": "markdown",
   "id": "45d1101a-15a0-475f-8c6f-c0d4c8e566c0",
   "metadata": {},
   "source": [
    "# Question 3:\n",
    "# Create a list of integers 15, 25, 35, 45, 55 \n",
    "# and perform the following operations:\n",
    "\n",
    "### 1. Insert the number 30 at the third position.\n",
    "### 2. Sort the list in ascending order.\n",
    "### 3. Make a copy of the list.\n",
    "### 4. Clear all elements from the original list.\n",
    "### 5. Check if the copied list still has the elements."
   ]
  },
  {
   "cell_type": "code",
   "execution_count": 23,
   "id": "aede2175-9e06-4018-8d3f-7f8338599c27",
   "metadata": {},
   "outputs": [
    {
     "name": "stdout",
     "output_type": "stream",
     "text": [
      "After inserting 30 at third position: [15, 25, 30, 35, 45, 55]\n",
      "Sorted list: [15, 25, 30, 35, 45, 55]\n",
      "Copy of the list: [15, 25, 30, 35, 45, 55]\n",
      "Original list after clearing: []\n",
      "Copied list: [15, 25, 30, 35, 45, 55]\n"
     ]
    }
   ],
   "source": [
    "# 1. Create a list of integers\n",
    "numbers = [15, 25, 35, 45, 55]\n",
    "\n",
    "# 2. Insert the number 30 at the third position (index 2)\n",
    "numbers.insert(2, 30)\n",
    "print(\"After inserting 30 at third position:\", numbers)\n",
    "\n",
    "# 3. Sort the list in ascending order\n",
    "numbers.sort()\n",
    "print(\"Sorted list:\", numbers)\n",
    "\n",
    "# 4. Make a copy of the list\n",
    "numbers_copy = numbers.copy()\n",
    "print(\"Copy of the list:\", numbers_copy)\n",
    "\n",
    "# 5. Clear the original list\n",
    "numbers.clear()\n",
    "print(\"Original list after clearing:\", numbers)\n",
    "\n",
    "# 6. Check if the copied list still has elements\n",
    "print(\"Copied list:\", numbers_copy)\n"
   ]
  },
  {
   "cell_type": "markdown",
   "id": "2ab43dce-5713-47d2-8ef1-4262a5cc5ca3",
   "metadata": {},
   "source": [
    "# Question 4:\n",
    "# Create a list \"cat\", \"dog\", \"elephant\", \"horse\". \n",
    "# Perform the following operations:\n",
    "\n",
    "### 1. Add \"tiger\" to the end of the list using a list method.\n",
    "### 2. Remove the first element of the list.\n",
    "### 3. Create a list of numbers and find the maximum, minimum, and sum of the list [100, 200, 300, 400].\n",
    "### 4. Check if \"dog\" is in the list.\n",
    "### 5. Sort the animal list alphabetically."
   ]
  },
  {
   "cell_type": "code",
   "execution_count": 26,
   "id": "f1fa1978-d72f-4743-aa8e-43099f71201c",
   "metadata": {},
   "outputs": [
    {
     "name": "stdout",
     "output_type": "stream",
     "text": [
      "After appending 'tiger': ['cat', 'dog', 'elephant', 'horse', 'tiger']\n",
      "After removing the first element: ['dog', 'elephant', 'horse', 'tiger']\n",
      "Max: 400, Min: 100, Sum: 1000\n",
      "Is 'dog' in the list: True\n",
      "Sorted list of animals: ['dog', 'elephant', 'horse', 'tiger']\n"
     ]
    }
   ],
   "source": [
    "# 1. Create a list of animals\n",
    "animals = [\"cat\", \"dog\", \"elephant\", \"horse\"]\n",
    "\n",
    "# 2. Add \"tiger\" to the end of the list\n",
    "animals.append(\"tiger\")\n",
    "print(\"After appending 'tiger':\", animals)\n",
    "\n",
    "# 3. Remove the first element of the list\n",
    "animals.pop(0)\n",
    "print(\"After removing the first element:\", animals)\n",
    "\n",
    "# 4. Create a list of numbers and find the max, min, and sum\n",
    "numbers = [100, 200, 300, 400]\n",
    "max_number = max(numbers)\n",
    "min_number = min(numbers)\n",
    "sum_numbers = sum(numbers)\n",
    "print(f\"Max: {max_number}, Min: {min_number}, Sum: {sum_numbers}\")\n",
    "\n",
    "# 5. Check if \"dog\" is in the list\n",
    "is_dog_in_list = \"dog\" in animals\n",
    "print(\"Is 'dog' in the list:\", is_dog_in_list)\n",
    "\n",
    "# 6. Sort the animal list alphabetically\n",
    "animals.sort()\n",
    "print(\"Sorted list of animals:\", animals)\n"
   ]
  },
  {
   "cell_type": "markdown",
   "id": "423ca4b9-97de-4fc3-b63f-451b05a4c11b",
   "metadata": {},
   "source": [
    "# SLICING "
   ]
  },
  {
   "cell_type": "markdown",
   "id": "a5bef6a5-394f-4e8c-b2a8-080dab38184b",
   "metadata": {},
   "source": [
    "# Question 1:\n",
    "# Given the list of numbers 1, 2, 3, 4, 5, 6, 7, 8, 9, 10 \n",
    "# perform the following operations using slicing:\n",
    "\n",
    "### 1. Get the first 5 elements of the list.\n",
    "### 2. Get the last 3 elements of the list.\n",
    "### 3. Get every second element from the list.[::2]\n",
    "### 4. Reverse the list using slicing.\n",
    "### 5. Get all elements except the first and last elements."
   ]
  },
  {
   "cell_type": "code",
   "execution_count": 32,
   "id": "23661c4e-efe4-45d1-a151-66b206dcc868",
   "metadata": {},
   "outputs": [
    {
     "name": "stdout",
     "output_type": "stream",
     "text": [
      "First 5 elements: [1, 2, 3, 4, 5]\n",
      "Last 3 elements: [8, 9, 10]\n",
      "Every second element: [1, 3, 5, 7, 9]\n",
      "Reversed list: [10, 9, 8, 7, 6, 5, 4, 3, 2, 1]\n",
      "All elements except the first and last two: [2, 3, 4, 5, 6, 7, 8, 9]\n"
     ]
    }
   ],
   "source": [
    "# 1. Create a list of numbers\n",
    "numbers = [1, 2, 3, 4, 5, 6, 7, 8, 9, 10]\n",
    "\n",
    "# 2. Get the first 5 elements\n",
    "first_five = numbers[:5]\n",
    "print(\"First 5 elements:\", first_five)\n",
    "\n",
    "# 3. Get the last 3 elements\n",
    "last_three = numbers[-3:]\n",
    "print(\"Last 3 elements:\", last_three)\n",
    "\n",
    "# 4. Get every second element\n",
    "every_second = numbers[::2]\n",
    "print(\"Every second element:\", every_second)\n",
    "\n",
    "# 5. Reverse the list using slicing\n",
    "reversed_list = numbers[::-1]\n",
    "print(\"Reversed list:\", reversed_list)\n",
    "\n",
    "# 6. Get all elements except the first and last two\n",
    "middle_elements = numbers[1:-1]\n",
    "print(\"All elements except the first and last two:\", middle_elements)\n"
   ]
  },
  {
   "cell_type": "markdown",
   "id": "6e16161d-e914-43b5-b91e-0fa89fab7014",
   "metadata": {},
   "source": [
    "# Question 2:\n",
    "# Given the list \"a\", \"b\", \"c\", \"d\", \"e\", \"f\", \"g\", \"h\"\n",
    "# perform the following slicing operations:\n",
    "\n",
    "### 1. Get the first 4 elements.\n",
    "### 2. Get every third element starting from the second element.\n",
    "### 3. Get the elements from index 2 to 5 (inclusive of 2, but exclusive of 5).\n",
    "### 4. Reverse the elements from index 1 to 6 (inclusive of 1, exclusive of 6).\n",
    "### 5. Get the last 5 elements using negative indexing and slicing."
   ]
  },
  {
   "cell_type": "code",
   "execution_count": 35,
   "id": "277ef25c-e247-4849-97eb-1771d6ca0349",
   "metadata": {},
   "outputs": [
    {
     "name": "stdout",
     "output_type": "stream",
     "text": [
      "First 4 elements: ['a', 'b', 'c', 'd']\n",
      "Every third element from second: ['b', 'e', 'h']\n",
      "Elements from index 2 to 5: ['c', 'd', 'e']\n",
      "Reversed elements from index 1 to 6: ['f', 'e', 'd', 'c', 'b']\n",
      "Last 5 elements: ['d', 'e', 'f', 'g', 'h']\n"
     ]
    }
   ],
   "source": [
    "# 1. Create a list of letters\n",
    "letters = [\"a\", \"b\", \"c\", \"d\", \"e\", \"f\", \"g\", \"h\"]\n",
    "\n",
    "# 2. Get the first 4 elements\n",
    "first_four = letters[:4]\n",
    "print(\"First 4 elements:\", first_four)\n",
    "\n",
    "# 3. Get every third element starting from the second element (index 1)\n",
    "every_third_from_second = letters[1::3]\n",
    "print(\"Every third element from second:\", every_third_from_second)\n",
    "\n",
    "# 4. Get the elements from index 2 to 5 (inclusive of index 2, exclusive of index 5)\n",
    "subset = letters[2:5]\n",
    "print(\"Elements from index 2 to 5:\", subset)\n",
    "\n",
    "# 5. Reverse the elements from index 1 to 6 (inclusive of 1, exclusive of 6)\n",
    "reversed_subset = letters[1:6][::-1]\n",
    "print(\"Reversed elements from index 1 to 6:\", reversed_subset)\n",
    "\n",
    "# 6. Get the last 5 elements using negative indexing\n",
    "last_five = letters[-5:]\n",
    "print(\"Last 5 elements:\", last_five)\n"
   ]
  },
  {
   "cell_type": "markdown",
   "id": "9a2dd158-bf52-4ef0-a2b8-6e37a83531e9",
   "metadata": {},
   "source": [
    "# Question 3:\n",
    "# Given a list of words \"python\", \"java\", \"c++\", \"ruby\", \"go\", \"swift\", \"kotlin\"\n",
    "# use list slicing to:\n",
    "\n",
    "### 1. Extract the middle 3 words.\n",
    "### 2. Get the list in reverse order using slicing.\n",
    "### 3. Get every word except the first two.\n",
    "### 4. Extract the first two elements and the last two elements and combine them into a new list.\n",
    "### 5. Get every second word starting from the third word in the list."
   ]
  },
  {
   "cell_type": "code",
   "execution_count": 38,
   "id": "6bb1e2e4-0bc2-46dd-beea-5dd94cfb2f8f",
   "metadata": {},
   "outputs": [
    {
     "name": "stdout",
     "output_type": "stream",
     "text": [
      "Middle 3 words: ['c++', 'ruby', 'go']\n",
      "List in reverse order: ['kotlin', 'swift', 'go', 'ruby', 'c++', 'java', 'python']\n",
      "All except first two: ['c++', 'ruby', 'go', 'swift', 'kotlin']\n",
      "First two and last two combined: ['python', 'java', 'swift', 'kotlin']\n",
      "Every second word from third: ['c++', 'go', 'kotlin']\n"
     ]
    }
   ],
   "source": [
    "# 1. Create a list of programming languages\n",
    "languages = [\"python\", \"java\", \"c++\", \"ruby\", \"go\", \"swift\", \"kotlin\"]\n",
    "\n",
    "# 2. Extract the middle 3 words\n",
    "middle_three = languages[2:5]\n",
    "print(\"Middle 3 words:\", middle_three)\n",
    "\n",
    "# 3. Get the list in reverse order using slicing\n",
    "reversed_languages = languages[::-1]\n",
    "print(\"List in reverse order:\", reversed_languages)\n",
    "\n",
    "# 4. Get every word except the first two\n",
    "except_first_two = languages[2:]\n",
    "print(\"All except first two:\", except_first_two)\n",
    "\n",
    "# 5. Extract the first two elements and last two elements and combine them\n",
    "first_two_and_last_two = languages[:2] + languages[-2:]\n",
    "print(\"First two and last two combined:\", first_two_and_last_two)\n",
    "\n",
    "# 6. Get every second word starting from the third word\n",
    "every_second_from_third = languages[2::2]\n",
    "print(\"Every second word from third:\", every_second_from_third)\n"
   ]
  },
  {
   "cell_type": "markdown",
   "id": "ebdc22fe-ecfd-4542-9fa6-646775fc9417",
   "metadata": {},
   "source": [
    "# Question 4:\n",
    "# Given a list of numbers 11, 22, 33, 44, 55, 66, 77, 88, 99\n",
    "# perform the following slicing operations:\n",
    "\n",
    "### 1. Get all elements from the third to the seventh element (inclusive).\n",
    "### 2. Get every second element from the entire list starting from the beginning.\n",
    "### 3. Reverse the sublist that contains elements from the 4th to 8th positions.\n",
    "### 4. Use slicing to create a copy of the original list.\n",
    "### 5. Get the first 4 elements and then reverse just those 4 elements."
   ]
  },
  {
   "cell_type": "code",
   "execution_count": 41,
   "id": "a767b9ca-4822-492c-b58f-06005c643f18",
   "metadata": {},
   "outputs": [
    {
     "name": "stdout",
     "output_type": "stream",
     "text": [
      "Elements from index 2 to 7: [33, 44, 55, 66, 77]\n",
      "Every second element: [11, 33, 55, 77, 99]\n",
      "Reversed sublist from index 3 to 7: [88, 77, 66, 55, 44]\n",
      "Copy of the list: [11, 22, 33, 44, 55, 66, 77, 88, 99]\n",
      "First 4 elements reversed: [44, 33, 22, 11]\n"
     ]
    }
   ],
   "source": [
    "# 1. Create a list of numbers\n",
    "numbers = [11, 22, 33, 44, 55, 66, 77, 88, 99]\n",
    "\n",
    "# 2. Get all elements from the third to the seventh element (inclusive of index 2, exclusive of index 7)\n",
    "subset = numbers[2:7]\n",
    "print(\"Elements from index 2 to 7:\", subset)\n",
    "\n",
    "# 3. Get every second element from the entire list\n",
    "every_second = numbers[::2]\n",
    "print(\"Every second element:\", every_second)\n",
    "\n",
    "# 4. Reverse the sublist that contains elements from the 4th to 8th positions (index 3 to 7)\n",
    "reversed_subset = numbers[3:8][::-1]\n",
    "print(\"Reversed sublist from index 3 to 7:\", reversed_subset)\n",
    "\n",
    "# 5. Use slicing to create a copy of the original list\n",
    "copy_list = numbers[:]\n",
    "print(\"Copy of the list:\", copy_list)\n",
    "\n",
    "# 6. Get the first 4 elements and reverse just those\n",
    "first_four_reversed = numbers[:4][::-1]\n",
    "print(\"First 4 elements reversed:\", first_four_reversed)\n"
   ]
  },
  {
   "cell_type": "code",
   "execution_count": null,
   "id": "1b3194a9-5518-4fd4-9e0d-d4d835aa5705",
   "metadata": {},
   "outputs": [],
   "source": []
  }
 ],
 "metadata": {
  "kernelspec": {
   "display_name": "Python 3 (ipykernel)",
   "language": "python",
   "name": "python3"
  },
  "language_info": {
   "codemirror_mode": {
    "name": "ipython",
    "version": 3
   },
   "file_extension": ".py",
   "mimetype": "text/x-python",
   "name": "python",
   "nbconvert_exporter": "python",
   "pygments_lexer": "ipython3",
   "version": "3.12.4"
  }
 },
 "nbformat": 4,
 "nbformat_minor": 5
}
