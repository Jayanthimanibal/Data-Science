{
 "cells": [
  {
   "cell_type": "markdown",
   "id": "529f28f0-cff4-4b4c-9e62-6148ef823500",
   "metadata": {},
   "source": [
    "# PYTHON FUNCTIONS\n",
    "### • Reusable block of code\n",
    "### •Programming Statement designed to perform a certain task\n",
    "### • For Creating a python Function \"def\" keyword\n",
    "### •The Function block of code is executed only if the functions is called or invoked"
   ]
  },
  {
   "cell_type": "markdown",
   "id": "6922147c-3d94-4523-ba93-f1a11eae967b",
   "metadata": {},
   "source": [
    "# Declaring and Calling a Function"
   ]
  },
  {
   "cell_type": "code",
   "execution_count": 4,
   "id": "48243502-f98d-421f-a98a-a119218f0ff5",
   "metadata": {},
   "outputs": [
    {
     "name": "stdout",
     "output_type": "stream",
     "text": [
      "Demo for function declaring and calling\n"
     ]
    }
   ],
   "source": [
    "def function_name():\n",
    "    print(\"Demo for function declaring and calling\")#declaring a function\n",
    "    #statement or block of code\n",
    "\n",
    "function_name() #function calling"
   ]
  },
  {
   "cell_type": "markdown",
   "id": "9d2559b9-de21-4c08-85b8-51d4f840bbf8",
   "metadata": {},
   "source": [
    "# TYPES OF FUNCTIONS\n",
    "## • Function without Parameters\n",
    "## • Functions with Parameters\n",
    "## • Functions with Default Parameters\n",
    "## • Functions Returning Multiple Values\n",
    "## • Functions with variable Length Arguments\t\r\n"
   ]
  },
  {
   "cell_type": "markdown",
   "id": "aed9a6f5-304d-4918-a9a3-eb00204d66f2",
   "metadata": {},
   "source": [
    "# FUNCTIONS WITHOUT PARAMETERS"
   ]
  },
  {
   "cell_type": "code",
   "execution_count": 5,
   "id": "b5fb8029-d227-48ee-8c3b-e621277b030b",
   "metadata": {},
   "outputs": [
    {
     "name": "stdout",
     "output_type": "stream",
     "text": [
      "Hello, welcome back to Internship training!\n"
     ]
    }
   ],
   "source": [
    "def greet():\n",
    "    print(\"Hello, welcome back to Internship training!\")\n",
    "\n",
    "greet()  # Calling the function\n"
   ]
  },
  {
   "cell_type": "code",
   "execution_count": 7,
   "id": "462841f7-2494-4c6f-a8fa-6656c2cdb1eb",
   "metadata": {},
   "outputs": [
    {
     "name": "stdout",
     "output_type": "stream",
     "text": [
      "Arun Kumar\n",
      "5\n"
     ]
    }
   ],
   "source": [
    "def generate_full_name ():\n",
    "    first_name = 'Arun'\n",
    "    last_name = 'Kumar'\n",
    "    space = ' '\n",
    "    full_name = first_name + space + last_name\n",
    "    print(full_name)\n",
    "generate_full_name () # calling a function\n",
    "\n",
    "def add_two_numbers ():\n",
    "    num_one = 2\n",
    "    num_two = 3\n",
    "    total = num_one + num_two\n",
    "    print(total)\n",
    "add_two_numbers()"
   ]
  },
  {
   "cell_type": "code",
   "execution_count": 10,
   "id": "1810f0c6-c24b-424c-a361-a6450cb016fb",
   "metadata": {},
   "outputs": [
    {
     "name": "stdin",
     "output_type": "stream",
     "text": [
      "Enter first name:  y\n",
      "Enter last name:  j\n"
     ]
    },
    {
     "name": "stdout",
     "output_type": "stream",
     "text": [
      "Full Name: y j\n"
     ]
    },
    {
     "name": "stdin",
     "output_type": "stream",
     "text": [
      "Enter first number:  8\n",
      "Enter second number:  9\n"
     ]
    },
    {
     "name": "stdout",
     "output_type": "stream",
     "text": [
      "Sum: 17\n"
     ]
    }
   ],
   "source": [
    "#Getting input from the user while in runtime\n",
    "def generate_full_name():\n",
    "    first_name = input(\"Enter first name: \")\n",
    "    last_name = input(\"Enter last name: \")\n",
    "    full_name = first_name + \" \" + last_name\n",
    "    print(\"Full Name:\", full_name)\n",
    "\n",
    "generate_full_name()\n",
    "\n",
    "def add_two_numbers():\n",
    "    num_one = int(input(\"Enter first number: \"))\n",
    "    num_two = int(input(\"Enter second number: \"))\n",
    "    total = num_one + num_two\n",
    "    print(\"Sum:\", total)\n",
    "\n",
    "add_two_numbers()\n"
   ]
  },
  {
   "cell_type": "markdown",
   "id": "112c0d2b-50c3-4bc0-a2bb-bf60d9b6c009",
   "metadata": {
    "jp-MarkdownHeadingCollapsed": true
   },
   "source": [
    "## Calculating the Area of a Rectangle"
   ]
  },
  {
   "cell_type": "code",
   "execution_count": 11,
   "id": "ad1061bf-1069-4d3f-bc1b-bb728c5ae547",
   "metadata": {},
   "outputs": [
    {
     "name": "stdout",
     "output_type": "stream",
     "text": [
      "Area of the rectangle: 50\n"
     ]
    }
   ],
   "source": [
    "\n",
    "def calculate_rectangle_area():\n",
    "    length = 10  \n",
    "    width = 5    \n",
    "    area = length * width\n",
    "    print(\"Area of the rectangle:\", area)\n",
    "\n",
    "calculate_rectangle_area()\n"
   ]
  },
  {
   "cell_type": "markdown",
   "id": "9d3f06ec-dd87-49cf-8d9f-5ec6f4c6d9ba",
   "metadata": {
    "jp-MarkdownHeadingCollapsed": true
   },
   "source": [
    "## Checking if a Number is Even or Odd"
   ]
  },
  {
   "cell_type": "code",
   "execution_count": 13,
   "id": "91c55394-e58b-4ba0-99c0-3d77d442a6a4",
   "metadata": {},
   "outputs": [
    {
     "name": "stdin",
     "output_type": "stream",
     "text": [
      "Enter a num to check even or odd: 5\n"
     ]
    },
    {
     "name": "stdout",
     "output_type": "stream",
     "text": [
      "5 is Odd\n"
     ]
    }
   ],
   "source": [
    "def check_even_or_odd():\n",
    "    number = int(input(\"Enter a num to check even or odd:\"))\n",
    "    if number % 2 == 0:\n",
    "        print(number, \"is Even\")5\n",
    "    else:\n",
    "        print(number, \"is Odd\")\n",
    "\n",
    "check_even_or_odd()\n"
   ]
  },
  {
   "cell_type": "markdown",
   "id": "12b2d7fd-0a78-4eb1-9e6f-4e1a748581cc",
   "metadata": {},
   "source": [
    "## Printing the First 10 Natural Numbers"
   ]
  },
  {
   "cell_type": "code",
   "execution_count": 15,
   "id": "11c0cf2b-8396-4e18-a58d-3c10a4c1a7ae",
   "metadata": {},
   "outputs": [
    {
     "name": "stdout",
     "output_type": "stream",
     "text": [
      "1 2 3 4 5 6 7 8 9 10 "
     ]
    }
   ],
   "source": [
    "def print_natural_numbers():\n",
    "    for i in range(1, 11):\n",
    "        print(i, end=\" \")\n",
    "\n",
    "print_natural_numbers()\n"
   ]
  },
  {
   "cell_type": "markdown",
   "id": "00659913-b478-4e64-9af7-b47df5dc37bd",
   "metadata": {},
   "source": [
    "# Function with Parameters"
   ]
  },
  {
   "cell_type": "code",
   "execution_count": 16,
   "id": "efb1c1b6-f267-4cf8-8893-f7a5b3eb4a31",
   "metadata": {},
   "outputs": [
    {
     "name": "stdout",
     "output_type": "stream",
     "text": [
      "Sum: 15\n"
     ]
    }
   ],
   "source": [
    "def add_numbers(a, b):\n",
    "    return a + b\n",
    "\n",
    "result = add_numbers(5, 10)\n",
    "print(\"Sum:\", result)\n"
   ]
  },
  {
   "cell_type": "code",
   "execution_count": 18,
   "id": "06a00994-73b0-489e-a1d8-07fc092b3fd3",
   "metadata": {},
   "outputs": [
    {
     "data": {
      "text/plain": [
       "'arun kumar'"
      ]
     },
     "execution_count": 18,
     "metadata": {},
     "output_type": "execute_result"
    }
   ],
   "source": [
    "def genarate_name(first_name, last_name):\n",
    "    fullname=first_name + \" \" + last_name\n",
    "    return fullname\n",
    "genarate_name('arun','kumar')\n"
   ]
  },
  {
   "cell_type": "markdown",
   "id": "1eaee78d-eaca-434f-b805-c6cbba47aa8c",
   "metadata": {
    "jp-MarkdownHeadingCollapsed": true
   },
   "source": [
    "## Calculating a area of circle"
   ]
  },
  {
   "cell_type": "code",
   "execution_count": 19,
   "id": "28f55dff-9ecc-42b9-a964-7f975317d42a",
   "metadata": {},
   "outputs": [
    {
     "name": "stdout",
     "output_type": "stream",
     "text": [
      "The area of the circle is: 78.53981633974483\n",
      "The area of the circle is: 314.1592653589793\n"
     ]
    }
   ],
   "source": [
    "import math\n",
    "\n",
    "def calculate_circle_area(radius):\n",
    "    area = math.pi * radius ** 2\n",
    "    print(\"The area of the circle is:\", area)\n",
    "\n",
    "# Calling the function with different radius values\n",
    "calculate_circle_area(5)\n",
    "calculate_circle_area(10)\n"
   ]
  },
  {
   "cell_type": "markdown",
   "id": "8c5f566b-0853-46e7-a541-2f742fe2cc1f",
   "metadata": {},
   "source": [
    "## Displaying Student Grades"
   ]
  },
  {
   "cell_type": "code",
   "execution_count": 22,
   "id": "5e77da55-6b41-47c7-afda-d33ba13d99bb",
   "metadata": {},
   "outputs": [
    {
     "name": "stdout",
     "output_type": "stream",
     "text": [
      "Arun: A\n",
      "Balu: B+\n",
      "Charlie: A-\n",
      "Ivana: B\n"
     ]
    }
   ],
   "source": [
    "def display_student_grades(grades):\n",
    "    for students, grade in grades.items():\n",
    "        print(f\"{students}: {grade}\")\n",
    "\n",
    "# Dictionary of student grades\n",
    "student_grades = {\"Arun\": \"A\", \"Balu\": \"B+\", \"Charlie\": \"A-\", \"Ivana\": \"B\"}\n",
    "\n",
    "# Calling the function\n",
    "display_student_grades(student_grades)\n"
   ]
  },
  {
   "cell_type": "markdown",
   "id": "e21fb8b3-a6ef-4857-8c74-5210a5792e05",
   "metadata": {
    "jp-MarkdownHeadingCollapsed": true
   },
   "source": [
    "# Function with Default Parameters"
   ]
  },
  {
   "cell_type": "code",
   "execution_count": 23,
   "id": "36881688-1225-44cf-bad9-90cecb9831fc",
   "metadata": {},
   "outputs": [
    {
     "name": "stdout",
     "output_type": "stream",
     "text": [
      "Hello, ML Engineer!\n",
      "Hello, Ishwarya!\n"
     ]
    }
   ],
   "source": [
    "def greet_user(name=\"ML Engineer\"):\n",
    "    print(f\"Hello, {name}!\")\n",
    "\n",
    "greet_user()         # Uses default value\n",
    "greet_user(\"Ishwarya\")  # Uses provided value\n"
   ]
  },
  {
   "cell_type": "markdown",
   "id": "38604cac-34ce-4867-a528-04963769848d",
   "metadata": {},
   "source": [
    "## Calculating the Total Price (Default Tax Rate)"
   ]
  },
  {
   "cell_type": "code",
   "execution_count": 24,
   "id": "99454c86-2d1c-4eec-8d69-a462727e8343",
   "metadata": {},
   "outputs": [
    {
     "name": "stdout",
     "output_type": "stream",
     "text": [
      "Total price after tax: $108.00\n",
      "Total price after tax: $210.00\n"
     ]
    }
   ],
   "source": [
    "def calculate_total_price(price, tax_rate=0.05):\n",
    "    total_price = price + (price * tax_rate)\n",
    "    print(f\"Total price after tax: ${total_price:.2f}\")\n",
    "\n",
    "# Calling the function with and without a tax rate\n",
    "calculate_total_price(100, 0.08)  # Output: Total price after tax: $108.00\n",
    "calculate_total_price(200)  # Output: Total price after tax: $210.00 (default tax 5%)\n"
   ]
  },
  {
   "cell_type": "markdown",
   "id": "237e5c25-de49-427e-9293-0f278eb0055a",
   "metadata": {},
   "source": [
    "# Function Returning Multiple Values"
   ]
  },
  {
   "cell_type": "code",
   "execution_count": 26,
   "id": "1f996839-24a2-4f3c-8da9-8c4ad389c6a6",
   "metadata": {},
   "outputs": [
    {
     "name": "stdout",
     "output_type": "stream",
     "text": [
      "Sum: 9, Product: 20\n"
     ]
    }
   ],
   "source": [
    "def calculate(a, b):\n",
    "    sum_value = a + b\n",
    "    product = a * b\n",
    "    return sum_value, product  # Returns multiple values as a tuple\n",
    "\n",
    "s, p = calculate(4, 5)\n",
    "print(f\"Sum: {s}, Product: {p}\")\n"
   ]
  },
  {
   "cell_type": "code",
   "execution_count": 25,
   "id": "425db496-7256-4d25-b6ec-5d9bd3a4790d",
   "metadata": {},
   "outputs": [
    {
     "name": "stdout",
     "output_type": "stream",
     "text": [
      "Area: 50\n",
      "Perimeter: 30\n"
     ]
    }
   ],
   "source": [
    "def rectangle_properties(length, width):\n",
    "    area = length * width\n",
    "    perimeter = 2 * (length + width)\n",
    "    return {\"area\": area, \"perimeter\": perimeter}\n",
    "\n",
    "# Calling the function\n",
    "result = rectangle_properties(10, 5)\n",
    "print(\"Area:\", result[\"area\"])\n",
    "print(\"Perimeter:\", result[\"perimeter\"])\n"
   ]
  },
  {
   "cell_type": "code",
   "execution_count": 28,
   "id": "cc4de8bc-4217-4fca-876d-102d2868e19f",
   "metadata": {},
   "outputs": [
    {
     "name": "stdout",
     "output_type": "stream",
     "text": [
      "First Character: P\n",
      "Last Character: r\n"
     ]
    }
   ],
   "source": [
    "def first_and_last_character(word):\n",
    "    return [word[0], word[-1]]\n",
    "\n",
    "# Calling the function\n",
    "result = first_and_last_character(\"Python Developer\")\n",
    "print(\"First Character:\", result[0])\n",
    "print(\"Last Character:\", result[1])\n"
   ]
  },
  {
   "cell_type": "code",
   "execution_count": null,
   "id": "1d90f2ff-ba1b-40a1-849e-4cdf2271913d",
   "metadata": {},
   "outputs": [],
   "source": []
  }
 ],
 "metadata": {
  "kernelspec": {
   "display_name": "Python 3 (ipykernel)",
   "language": "python",
   "name": "python3"
  },
  "language_info": {
   "codemirror_mode": {
    "name": "ipython",
    "version": 3
   },
   "file_extension": ".py",
   "mimetype": "text/x-python",
   "name": "python",
   "nbconvert_exporter": "python",
   "pygments_lexer": "ipython3",
   "version": "3.12.4"
  }
 },
 "nbformat": 4,
 "nbformat_minor": 5
}
