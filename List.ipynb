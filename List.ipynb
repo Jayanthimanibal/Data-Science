{
  "nbformat": 4,
  "nbformat_minor": 0,
  "metadata": {
    "colab": {
      "provenance": [],
      "toc_visible": true
    },
    "kernelspec": {
      "name": "python3",
      "display_name": "Python 3"
    },
    "language_info": {
      "name": "python"
    }
  },
  "cells": [
    {
      "cell_type": "code",
      "execution_count": null,
      "metadata": {
        "colab": {
          "base_uri": "https://localhost:8080/"
        },
        "id": "5CuvzYUT9bIL",
        "outputId": "de7c8412-0889-4ebf-daad-6122687b8ebd"
      },
      "outputs": [
        {
          "output_type": "stream",
          "name": "stdout",
          "text": [
            "[1, 2, 3]\n"
          ]
        }
      ],
      "source": [
        "a=[1,2,3]\n",
        "print(a)"
      ]
    },
    {
      "cell_type": "code",
      "source": [
        "import numpy as np\n",
        "a=[1,2,3,4,5]\n",
        "print(a)"
      ],
      "metadata": {
        "colab": {
          "base_uri": "https://localhost:8080/"
        },
        "id": "4Fv705oa9589",
        "outputId": "61c3d21a-32af-48ea-eb89-d6ec4aea8395"
      },
      "execution_count": null,
      "outputs": [
        {
          "output_type": "stream",
          "name": "stdout",
          "text": [
            "[1, 2, 3, 4, 5]\n"
          ]
        }
      ]
    },
    {
      "cell_type": "code",
      "source": [
        "b=a.append(1)\n",
        "print(b)"
      ],
      "metadata": {
        "colab": {
          "base_uri": "https://localhost:8080/"
        },
        "id": "9KrNjQk__7Ku",
        "outputId": "e5bf98c0-8061-46c7-c283-93f5885f487a"
      },
      "execution_count": null,
      "outputs": [
        {
          "output_type": "stream",
          "name": "stdout",
          "text": [
            "None\n"
          ]
        }
      ]
    },
    {
      "cell_type": "code",
      "source": [
        "a.append('apple')\n",
        "a.append('banana')\n",
        "print(a)\n"
      ],
      "metadata": {
        "colab": {
          "base_uri": "https://localhost:8080/"
        },
        "id": "b_IBRYBgA1zl",
        "outputId": "e71e8b55-5b30-46c6-c043-9a8fe529e55c"
      },
      "execution_count": null,
      "outputs": [
        {
          "output_type": "stream",
          "name": "stdout",
          "text": [
            "[1, 2, 3, 4, 5, 1, 'apple', 'banana']\n"
          ]
        }
      ]
    },
    {
      "cell_type": "code",
      "source": [
        "a.insert(1,3)\n",
        "print(a)"
      ],
      "metadata": {
        "colab": {
          "base_uri": "https://localhost:8080/"
        },
        "id": "wAy31NrrBPaV",
        "outputId": "9946a687-c7b2-483a-a54d-fd03f38d7c95"
      },
      "execution_count": null,
      "outputs": [
        {
          "output_type": "stream",
          "name": "stdout",
          "text": [
            "[1, 3, 3, 2, 3, 4, 5, 1, 'apple', 'banana']\n"
          ]
        }
      ]
    },
    {
      "cell_type": "code",
      "source": [
        "a.insert(5,'jayanthi')\n",
        "a"
      ],
      "metadata": {
        "colab": {
          "base_uri": "https://localhost:8080/"
        },
        "id": "T_lLxeqgBg0f",
        "outputId": "629a7b2a-1170-4977-938a-79b14cd40494"
      },
      "execution_count": null,
      "outputs": [
        {
          "output_type": "execute_result",
          "data": {
            "text/plain": [
              "[1, 3, 3, 2, 3, 'jayanthi', 4, 5, 1, 'apple', 'banana']"
            ]
          },
          "metadata": {},
          "execution_count": 26
        }
      ]
    },
    {
      "cell_type": "code",
      "source": [
        "a.remove(1)\n",
        "a"
      ],
      "metadata": {
        "colab": {
          "base_uri": "https://localhost:8080/"
        },
        "id": "F0mhm-L3DY7z",
        "outputId": "f98ffb85-319f-44c6-eca1-4e988424bf97"
      },
      "execution_count": null,
      "outputs": [
        {
          "output_type": "execute_result",
          "data": {
            "text/plain": [
              "[3, 3, 2, 3, 'jayanthi', 4, 5, 1, 'apple', 'banana']"
            ]
          },
          "metadata": {},
          "execution_count": 28
        }
      ]
    },
    {
      "cell_type": "code",
      "source": [
        "print(\"TASK 1\")\n",
        "\n",
        "a=[10,20,30,40,50]\n",
        "print(\"1. Elements in the list \",a)\n",
        "\n",
        "b=a.append(60)\n",
        "print(\"2. Append the values\",b)\n",
        "\n",
        "c=a.remove(30)\n",
        "print(\"3. Remove values from the list\",c)\n",
        "\n",
        "d=a.insert(2,25)\n",
        "print(\"4. Insert the values in 2 position\",d)\n",
        "\n",
        "c=a.sort(reverse=True)\n",
        "print(\"5. Sort the values in descending order\",c)\n",
        "\n",
        "d=len(a)\n",
        "print(\"6. Length of the list\",d)\n",
        "\n",
        "e=a[:-1]\n",
        "print(\"7. Last elements in the list\",e)"
      ],
      "metadata": {
        "colab": {
          "base_uri": "https://localhost:8080/"
        },
        "id": "WatQ7qRYGPy9",
        "outputId": "a4bb5c46-8a40-4b1e-aaab-0c56d31e146a"
      },
      "execution_count": 1,
      "outputs": [
        {
          "output_type": "stream",
          "name": "stdout",
          "text": [
            "TASK 1\n",
            "1. Elements in the list  [10, 20, 30, 40, 50]\n",
            "2. Append the values None\n",
            "3. Remove values from the list None\n",
            "4. Insert the values in 2 position None\n",
            "5. Sort the values in descending order None\n",
            "6. Length of the list 6\n",
            "7. Last elements in the list [60, 50, 40, 25, 20]\n"
          ]
        }
      ]
    },
    {
      "cell_type": "code",
      "source": [
        "print(\"TASK 2\")\n",
        "\n",
        "a=[\"apple\",\"banana\",\"cherry\",\"dates\",\"berry\"]\n",
        "print(\"1. List of friuts:\",a)\n",
        "\n",
        "b=a.count('banana')\n",
        "print(\"2. Count how many banana appears in the list:\",b)\n",
        "\n",
        "c=a.extend([\"apple\",\"banana\"])\n",
        "print(\"3. Merge the list:\",c)\n",
        "\n",
        "d=a[:-1]\n",
        "print(\"4. Reverse the list:\",d)\n",
        "\n",
        "e=a.index(\"cherry\")\n",
        "print(\"5. Index of cherry:\",e)\n",
        "\n",
        "f=a.remove(\"dates\")\n",
        "print(\"6. Remove dates from the list:\",f)"
      ],
      "metadata": {
        "id": "9OjzWuc2GNgO",
        "colab": {
          "base_uri": "https://localhost:8080/"
        },
        "outputId": "054007f2-bcdb-4ee5-bfad-9b3939966aa2"
      },
      "execution_count": 7,
      "outputs": [
        {
          "output_type": "stream",
          "name": "stdout",
          "text": [
            "TASK 2\n",
            "1. List of friuts: ['apple', 'banana', 'cherry', 'dates', 'berry']\n",
            "2. Count how many banana appears in the list: 1\n",
            "3. Merge the list: None\n",
            "4. Reverse the list: ['apple', 'banana', 'cherry', 'dates', 'berry', 'apple']\n",
            "5. Index of cherry: 2\n",
            "6. Remove dates from the list: None\n"
          ]
        }
      ]
    },
    {
      "cell_type": "code",
      "source": [
        "print(\"TASK 3\")\n",
        "\n",
        "a=list(range(1,10))\n",
        "print(\"1. print the list values:\",a)\n",
        "\n",
        "b=a[:5]\n",
        "print(\"2. First five element in the list: \",b)\n",
        "\n",
        "c=a[-3:]\n",
        "print(\"3. Last three element from the list:\",c)\n",
        "\n",
        "d=a[1:10:2]\n",
        "print(\"4. Get every 2 number from the list:\",d)\n",
        "\n",
        "e=a[1:-1]\n",
        "print(\"5. Remove first and last element from the list:\",e)\n"
      ],
      "metadata": {
        "id": "ScYh1P26F77C",
        "colab": {
          "base_uri": "https://localhost:8080/"
        },
        "outputId": "edd24a7d-a47e-473c-9c36-b345796ff8ba"
      },
      "execution_count": 12,
      "outputs": [
        {
          "output_type": "stream",
          "name": "stdout",
          "text": [
            "TASK 3\n",
            "1. print the list values: [1, 2, 3, 4, 5, 6, 7, 8, 9]\n",
            "2. First five element in the list:  [1, 2, 3, 4, 5]\n",
            "3. Last three element from the list: [7, 8, 9]\n",
            "4. Get every 2 number from the list: [2, 4, 6, 8]\n",
            "5. Remove first and last element from the list: [2, 3, 4, 5, 6, 7, 8]\n"
          ]
        }
      ]
    },
    {
      "cell_type": "code",
      "source": [
        "print(\"TASK 4\")\n",
        "\n",
        "a=list(range(11,100,11))\n",
        "print(\"1. Create a list of elements:\",a)\n",
        "\n",
        "b=a[3:8]\n",
        "print(\"2. Elements from 3 to 7 elements:\",b)\n",
        "\n",
        "c=a[1:100:2]\n",
        "print(\"3. Everyy 2 elements in the list:\",c)\n",
        "\n",
        "d=a.copy()\n",
        "print(\"4. Duplicate copy of the original list:\",d)\n",
        "\n",
        "e=a.clear()\n",
        "print(\"5. Clear all the elements form the original list:\",e)\n",
        "\n",
        "print(\"6. Check the original list and copy list:\",a==d)\n"
      ],
      "metadata": {
        "colab": {
          "base_uri": "https://localhost:8080/"
        },
        "id": "rxeoq768QgFB",
        "outputId": "91c79472-5683-465f-a64d-ac79d11f5a20"
      },
      "execution_count": 18,
      "outputs": [
        {
          "output_type": "stream",
          "name": "stdout",
          "text": [
            "TASK 4\n",
            "1. Create a list of elements: [11, 22, 33, 44, 55, 66, 77, 88, 99]\n",
            "2. Elements from 3 to 7 elements: [44, 55, 66, 77, 88]\n",
            "3. Everyy 2 elements in the list: [22, 44, 66, 88]\n",
            "4. Duplicate copy of the original list: [11, 22, 33, 44, 55, 66, 77, 88, 99]\n",
            "5. Clear all the elements form the original list: None\n",
            "6. Check the original list and copy list: False\n"
          ]
        }
      ]
    }
  ]
}