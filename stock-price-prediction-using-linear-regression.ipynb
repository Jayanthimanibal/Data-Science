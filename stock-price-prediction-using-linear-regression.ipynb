{
 "cells": [
  {
   "cell_type": "markdown",
   "metadata": {
    "_cell_guid": "b1076dfc-b9ad-4769-8c92-a6c4dae69d19",
    "_uuid": "8f2839f25d086af736a60e9eeb907d3b93b6e0e5",
    "papermill": {
     "duration": 0.020046,
     "end_time": "2021-01-16T18:05:51.398810",
     "exception": false,
     "start_time": "2021-01-16T18:05:51.378764",
     "status": "completed"
    },
    "tags": []
   },
   "source": [
    "# Stock Price Prediction Using Linear Regression"
   ]
  },
  {
   "cell_type": "markdown",
   "metadata": {
    "papermill": {
     "duration": 0.018597,
     "end_time": "2021-01-16T18:05:51.437110",
     "exception": false,
     "start_time": "2021-01-16T18:05:51.418513",
     "status": "completed"
    },
    "tags": []
   },
   "source": [
    "### Importing Required Libraries"
   ]
  },
  {
   "cell_type": "code",
   "execution_count": 1,
   "metadata": {
    "papermill": {
     "duration": 1.335349,
     "end_time": "2021-01-16T18:05:52.791329",
     "exception": false,
     "start_time": "2021-01-16T18:05:51.455980",
     "status": "completed"
    },
    "tags": []
   },
   "outputs": [],
   "source": [
    "import numpy as np\n",
    "import pandas as pd\n",
    "from sklearn import preprocessing\n",
    "from sklearn import metrics\n",
    "from sklearn.model_selection import train_test_split\n",
    "from sklearn.linear_model import LinearRegression\n",
    "import matplotlib.pyplot as plt"
   ]
  },
  {
   "cell_type": "markdown",
   "metadata": {
    "papermill": {
     "duration": 0.018497,
     "end_time": "2021-01-16T18:05:52.830532",
     "exception": false,
     "start_time": "2021-01-16T18:05:52.812035",
     "status": "completed"
    },
    "tags": []
   },
   "source": [
    "### Loading Data"
   ]
  },
  {
   "cell_type": "code",
   "execution_count": 3,
   "metadata": {
    "_cell_guid": "79c7e3d0-c299-4dcb-8224-4455121ee9b0",
    "_uuid": "d629ff2d2480ee46fbb7e2d37f6b5fab8052498a",
    "papermill": {
     "duration": 0.050084,
     "end_time": "2021-01-16T18:05:52.899451",
     "exception": false,
     "start_time": "2021-01-16T18:05:52.849367",
     "status": "completed"
    },
    "tags": []
   },
   "outputs": [],
   "source": [
    "data = pd.read_csv(\"TSLA.csv\")"
   ]
  },
  {
   "cell_type": "markdown",
   "metadata": {
    "papermill": {
     "duration": 0.018524,
     "end_time": "2021-01-16T18:05:52.936965",
     "exception": false,
     "start_time": "2021-01-16T18:05:52.918441",
     "status": "completed"
    },
    "tags": []
   },
   "source": [
    "### Let's See The Data"
   ]
  },
  {
   "cell_type": "code",
   "execution_count": 5,
   "metadata": {
    "papermill": {
     "duration": 0.049182,
     "end_time": "2021-01-16T18:05:53.004906",
     "exception": false,
     "start_time": "2021-01-16T18:05:52.955724",
     "status": "completed"
    },
    "tags": []
   },
   "outputs": [
    {
     "data": {
      "text/html": [
       "<div>\n",
       "<style scoped>\n",
       "    .dataframe tbody tr th:only-of-type {\n",
       "        vertical-align: middle;\n",
       "    }\n",
       "\n",
       "    .dataframe tbody tr th {\n",
       "        vertical-align: top;\n",
       "    }\n",
       "\n",
       "    .dataframe thead th {\n",
       "        text-align: right;\n",
       "    }\n",
       "</style>\n",
       "<table border=\"1\" class=\"dataframe\">\n",
       "  <thead>\n",
       "    <tr style=\"text-align: right;\">\n",
       "      <th></th>\n",
       "      <th>Date</th>\n",
       "      <th>Open</th>\n",
       "      <th>High</th>\n",
       "      <th>Low</th>\n",
       "      <th>Close</th>\n",
       "      <th>Adj Close</th>\n",
       "      <th>Volume</th>\n",
       "    </tr>\n",
       "  </thead>\n",
       "  <tbody>\n",
       "    <tr>\n",
       "      <th>0</th>\n",
       "      <td>2010-06-30</td>\n",
       "      <td>5.158</td>\n",
       "      <td>6.084</td>\n",
       "      <td>4.660</td>\n",
       "      <td>4.766</td>\n",
       "      <td>4.766</td>\n",
       "      <td>85935500</td>\n",
       "    </tr>\n",
       "    <tr>\n",
       "      <th>1</th>\n",
       "      <td>2010-07-01</td>\n",
       "      <td>5.000</td>\n",
       "      <td>5.184</td>\n",
       "      <td>4.054</td>\n",
       "      <td>4.392</td>\n",
       "      <td>4.392</td>\n",
       "      <td>41094000</td>\n",
       "    </tr>\n",
       "    <tr>\n",
       "      <th>2</th>\n",
       "      <td>2010-07-02</td>\n",
       "      <td>4.600</td>\n",
       "      <td>4.620</td>\n",
       "      <td>3.742</td>\n",
       "      <td>3.840</td>\n",
       "      <td>3.840</td>\n",
       "      <td>25699000</td>\n",
       "    </tr>\n",
       "    <tr>\n",
       "      <th>3</th>\n",
       "      <td>2010-07-06</td>\n",
       "      <td>4.000</td>\n",
       "      <td>4.000</td>\n",
       "      <td>3.166</td>\n",
       "      <td>3.222</td>\n",
       "      <td>3.222</td>\n",
       "      <td>34334500</td>\n",
       "    </tr>\n",
       "    <tr>\n",
       "      <th>4</th>\n",
       "      <td>2010-07-07</td>\n",
       "      <td>3.280</td>\n",
       "      <td>3.326</td>\n",
       "      <td>2.996</td>\n",
       "      <td>3.160</td>\n",
       "      <td>3.160</td>\n",
       "      <td>34608500</td>\n",
       "    </tr>\n",
       "  </tbody>\n",
       "</table>\n",
       "</div>"
      ],
      "text/plain": [
       "         Date   Open   High    Low  Close  Adj Close    Volume\n",
       "0  2010-06-30  5.158  6.084  4.660  4.766      4.766  85935500\n",
       "1  2010-07-01  5.000  5.184  4.054  4.392      4.392  41094000\n",
       "2  2010-07-02  4.600  4.620  3.742  3.840      3.840  25699000\n",
       "3  2010-07-06  4.000  4.000  3.166  3.222      3.222  34334500\n",
       "4  2010-07-07  3.280  3.326  2.996  3.160      3.160  34608500"
      ]
     },
     "execution_count": 5,
     "metadata": {},
     "output_type": "execute_result"
    }
   ],
   "source": [
    "data.head()"
   ]
  },
  {
   "cell_type": "raw",
   "metadata": {},
   "source": [
    "head(),tail(),describe(), info(), columns(),shape\n",
    "df.isnull().sum()"
   ]
  },
  {
   "cell_type": "code",
   "execution_count": 6,
   "metadata": {
    "papermill": {
     "duration": 0.039036,
     "end_time": "2021-01-16T18:05:53.064066",
     "exception": false,
     "start_time": "2021-01-16T18:05:53.025030",
     "status": "completed"
    },
    "tags": []
   },
   "outputs": [
    {
     "name": "stdout",
     "output_type": "stream",
     "text": [
      "<class 'pandas.core.frame.DataFrame'>\n",
      "RangeIndex: 2579 entries, 0 to 2578\n",
      "Data columns (total 7 columns):\n",
      " #   Column     Non-Null Count  Dtype  \n",
      "---  ------     --------------  -----  \n",
      " 0   Date       2579 non-null   object \n",
      " 1   Open       2579 non-null   float64\n",
      " 2   High       2579 non-null   float64\n",
      " 3   Low        2579 non-null   float64\n",
      " 4   Close      2579 non-null   float64\n",
      " 5   Adj Close  2579 non-null   float64\n",
      " 6   Volume     2579 non-null   int64  \n",
      "dtypes: float64(5), int64(1), object(1)\n",
      "memory usage: 141.2+ KB\n"
     ]
    }
   ],
   "source": [
    "data.info()"
   ]
  },
  {
   "cell_type": "code",
   "execution_count": 7,
   "metadata": {
    "papermill": {
     "duration": 0.056081,
     "end_time": "2021-01-16T18:05:53.140975",
     "exception": false,
     "start_time": "2021-01-16T18:05:53.084894",
     "status": "completed"
    },
    "tags": []
   },
   "outputs": [
    {
     "data": {
      "text/html": [
       "<div>\n",
       "<style scoped>\n",
       "    .dataframe tbody tr th:only-of-type {\n",
       "        vertical-align: middle;\n",
       "    }\n",
       "\n",
       "    .dataframe tbody tr th {\n",
       "        vertical-align: top;\n",
       "    }\n",
       "\n",
       "    .dataframe thead th {\n",
       "        text-align: right;\n",
       "    }\n",
       "</style>\n",
       "<table border=\"1\" class=\"dataframe\">\n",
       "  <thead>\n",
       "    <tr style=\"text-align: right;\">\n",
       "      <th></th>\n",
       "      <th>Open</th>\n",
       "      <th>High</th>\n",
       "      <th>Low</th>\n",
       "      <th>Close</th>\n",
       "      <th>Adj Close</th>\n",
       "      <th>Volume</th>\n",
       "    </tr>\n",
       "  </thead>\n",
       "  <tbody>\n",
       "    <tr>\n",
       "      <th>count</th>\n",
       "      <td>2579.000000</td>\n",
       "      <td>2579.000000</td>\n",
       "      <td>2579.000000</td>\n",
       "      <td>2579.000000</td>\n",
       "      <td>2579.000000</td>\n",
       "      <td>2.579000e+03</td>\n",
       "    </tr>\n",
       "    <tr>\n",
       "      <th>mean</th>\n",
       "      <td>49.206686</td>\n",
       "      <td>50.301806</td>\n",
       "      <td>48.073117</td>\n",
       "      <td>49.253279</td>\n",
       "      <td>49.253279</td>\n",
       "      <td>3.078217e+07</td>\n",
       "    </tr>\n",
       "    <tr>\n",
       "      <th>std</th>\n",
       "      <td>57.934102</td>\n",
       "      <td>59.888383</td>\n",
       "      <td>55.852349</td>\n",
       "      <td>58.119783</td>\n",
       "      <td>58.119783</td>\n",
       "      <td>2.855717e+07</td>\n",
       "    </tr>\n",
       "    <tr>\n",
       "      <th>min</th>\n",
       "      <td>3.228000</td>\n",
       "      <td>3.326000</td>\n",
       "      <td>2.996000</td>\n",
       "      <td>3.160000</td>\n",
       "      <td>3.160000</td>\n",
       "      <td>5.925000e+05</td>\n",
       "    </tr>\n",
       "    <tr>\n",
       "      <th>25%</th>\n",
       "      <td>7.159000</td>\n",
       "      <td>7.268000</td>\n",
       "      <td>6.989000</td>\n",
       "      <td>7.153000</td>\n",
       "      <td>7.153000</td>\n",
       "      <td>1.047400e+07</td>\n",
       "    </tr>\n",
       "    <tr>\n",
       "      <th>50%</th>\n",
       "      <td>44.001999</td>\n",
       "      <td>44.660000</td>\n",
       "      <td>43.301998</td>\n",
       "      <td>43.924000</td>\n",
       "      <td>43.924000</td>\n",
       "      <td>2.413100e+07</td>\n",
       "    </tr>\n",
       "    <tr>\n",
       "      <th>75%</th>\n",
       "      <td>59.339000</td>\n",
       "      <td>60.171000</td>\n",
       "      <td>57.841000</td>\n",
       "      <td>59.020000</td>\n",
       "      <td>59.020000</td>\n",
       "      <td>3.979150e+07</td>\n",
       "    </tr>\n",
       "    <tr>\n",
       "      <th>max</th>\n",
       "      <td>502.140015</td>\n",
       "      <td>502.489990</td>\n",
       "      <td>470.510010</td>\n",
       "      <td>498.320007</td>\n",
       "      <td>498.320007</td>\n",
       "      <td>3.046940e+08</td>\n",
       "    </tr>\n",
       "  </tbody>\n",
       "</table>\n",
       "</div>"
      ],
      "text/plain": [
       "              Open         High          Low        Close    Adj Close  \\\n",
       "count  2579.000000  2579.000000  2579.000000  2579.000000  2579.000000   \n",
       "mean     49.206686    50.301806    48.073117    49.253279    49.253279   \n",
       "std      57.934102    59.888383    55.852349    58.119783    58.119783   \n",
       "min       3.228000     3.326000     2.996000     3.160000     3.160000   \n",
       "25%       7.159000     7.268000     6.989000     7.153000     7.153000   \n",
       "50%      44.001999    44.660000    43.301998    43.924000    43.924000   \n",
       "75%      59.339000    60.171000    57.841000    59.020000    59.020000   \n",
       "max     502.140015   502.489990   470.510010   498.320007   498.320007   \n",
       "\n",
       "             Volume  \n",
       "count  2.579000e+03  \n",
       "mean   3.078217e+07  \n",
       "std    2.855717e+07  \n",
       "min    5.925000e+05  \n",
       "25%    1.047400e+07  \n",
       "50%    2.413100e+07  \n",
       "75%    3.979150e+07  \n",
       "max    3.046940e+08  "
      ]
     },
     "execution_count": 7,
     "metadata": {},
     "output_type": "execute_result"
    }
   ],
   "source": [
    "data.describe()"
   ]
  },
  {
   "cell_type": "code",
   "execution_count": 21,
   "metadata": {},
   "outputs": [
    {
     "data": {
      "text/plain": [
       "0"
      ]
     },
     "execution_count": 21,
     "metadata": {},
     "output_type": "execute_result"
    }
   ],
   "source": [
    "data.isnull().sum().sum()"
   ]
  },
  {
   "cell_type": "markdown",
   "metadata": {
    "papermill": {
     "duration": 0.021008,
     "end_time": "2021-01-16T18:05:53.182822",
     "exception": false,
     "start_time": "2021-01-16T18:05:53.161814",
     "status": "completed"
    },
    "tags": []
   },
   "source": [
    "### Separate the Input and Output Columns"
   ]
  },
  {
   "cell_type": "code",
   "execution_count": 25,
   "metadata": {
    "papermill": {
     "duration": 0.0324,
     "end_time": "2021-01-16T18:05:53.236004",
     "exception": false,
     "start_time": "2021-01-16T18:05:53.203604",
     "status": "completed"
    },
    "tags": []
   },
   "outputs": [],
   "source": [
    "X = data [['High','Low','Open','Volume']]\n",
    "y = data['Close']"
   ]
  },
  {
   "cell_type": "code",
   "execution_count": 10,
   "metadata": {
    "papermill": {
     "duration": 0.03102,
     "end_time": "2021-01-16T18:05:53.288725",
     "exception": false,
     "start_time": "2021-01-16T18:05:53.257705",
     "status": "completed"
    },
    "tags": []
   },
   "outputs": [
    {
     "data": {
      "text/plain": [
       "(2579, 4)"
      ]
     },
     "execution_count": 10,
     "metadata": {},
     "output_type": "execute_result"
    }
   ],
   "source": [
    "X.shape"
   ]
  },
  {
   "cell_type": "code",
   "execution_count": 11,
   "metadata": {
    "papermill": {
     "duration": 0.031343,
     "end_time": "2021-01-16T18:05:53.341668",
     "exception": false,
     "start_time": "2021-01-16T18:05:53.310325",
     "status": "completed"
    },
    "tags": []
   },
   "outputs": [
    {
     "data": {
      "text/plain": [
       "(2579,)"
      ]
     },
     "execution_count": 11,
     "metadata": {},
     "output_type": "execute_result"
    }
   ],
   "source": [
    "y.shape"
   ]
  },
  {
   "cell_type": "markdown",
   "metadata": {
    "papermill": {
     "duration": 0.021665,
     "end_time": "2021-01-16T18:05:53.385150",
     "exception": false,
     "start_time": "2021-01-16T18:05:53.363485",
     "status": "completed"
    },
    "tags": []
   },
   "source": [
    "### Spliting the Train and Test data"
   ]
  },
  {
   "cell_type": "code",
   "execution_count": 68,
   "metadata": {
    "papermill": {
     "duration": 0.031632,
     "end_time": "2021-01-16T18:05:53.439884",
     "exception": false,
     "start_time": "2021-01-16T18:05:53.408252",
     "status": "completed"
    },
    "tags": []
   },
   "outputs": [
    {
     "data": {
      "text/plain": [
       "(1805, 4)"
      ]
     },
     "execution_count": 68,
     "metadata": {},
     "output_type": "execute_result"
    }
   ],
   "source": [
    "X_train, X_test, y_train, y_test = train_test_split(X,y, test_size=0.3, random_state=2) # 1, 2, 3, 4,5, 6,7,8,9,10 #shuffle, strafity\n",
    "X_train.shape #train "
   ]
  },
  {
   "cell_type": "markdown",
   "metadata": {
    "papermill": {
     "duration": 0.02162,
     "end_time": "2021-01-16T18:05:53.483374",
     "exception": false,
     "start_time": "2021-01-16T18:05:53.461754",
     "status": "completed"
    },
    "tags": []
   },
   "source": [
    "### Linear Regression Model"
   ]
  },
  {
   "cell_type": "code",
   "execution_count": 74,
   "metadata": {
    "papermill": {
     "duration": 0.031254,
     "end_time": "2021-01-16T18:05:53.536563",
     "exception": false,
     "start_time": "2021-01-16T18:05:53.505309",
     "status": "completed"
    },
    "tags": []
   },
   "outputs": [],
   "source": [
    "reg = LinearRegression()"
   ]
  },
  {
   "cell_type": "markdown",
   "metadata": {
    "papermill": {
     "duration": 0.021764,
     "end_time": "2021-01-16T18:05:53.580343",
     "exception": false,
     "start_time": "2021-01-16T18:05:53.558579",
     "status": "completed"
    },
    "tags": []
   },
   "source": [
    "### Fitting the data in the Model"
   ]
  },
  {
   "cell_type": "code",
   "execution_count": 76,
   "metadata": {
    "papermill": {
     "duration": 0.124901,
     "end_time": "2021-01-16T18:05:53.727291",
     "exception": false,
     "start_time": "2021-01-16T18:05:53.602390",
     "status": "completed"
    },
    "tags": []
   },
   "outputs": [
    {
     "data": {
      "text/html": [
       "<style>#sk-container-id-2 {\n",
       "  /* Definition of color scheme common for light and dark mode */\n",
       "  --sklearn-color-text: black;\n",
       "  --sklearn-color-line: gray;\n",
       "  /* Definition of color scheme for unfitted estimators */\n",
       "  --sklearn-color-unfitted-level-0: #fff5e6;\n",
       "  --sklearn-color-unfitted-level-1: #f6e4d2;\n",
       "  --sklearn-color-unfitted-level-2: #ffe0b3;\n",
       "  --sklearn-color-unfitted-level-3: chocolate;\n",
       "  /* Definition of color scheme for fitted estimators */\n",
       "  --sklearn-color-fitted-level-0: #f0f8ff;\n",
       "  --sklearn-color-fitted-level-1: #d4ebff;\n",
       "  --sklearn-color-fitted-level-2: #b3dbfd;\n",
       "  --sklearn-color-fitted-level-3: cornflowerblue;\n",
       "\n",
       "  /* Specific color for light theme */\n",
       "  --sklearn-color-text-on-default-background: var(--sg-text-color, var(--theme-code-foreground, var(--jp-content-font-color1, black)));\n",
       "  --sklearn-color-background: var(--sg-background-color, var(--theme-background, var(--jp-layout-color0, white)));\n",
       "  --sklearn-color-border-box: var(--sg-text-color, var(--theme-code-foreground, var(--jp-content-font-color1, black)));\n",
       "  --sklearn-color-icon: #696969;\n",
       "\n",
       "  @media (prefers-color-scheme: dark) {\n",
       "    /* Redefinition of color scheme for dark theme */\n",
       "    --sklearn-color-text-on-default-background: var(--sg-text-color, var(--theme-code-foreground, var(--jp-content-font-color1, white)));\n",
       "    --sklearn-color-background: var(--sg-background-color, var(--theme-background, var(--jp-layout-color0, #111)));\n",
       "    --sklearn-color-border-box: var(--sg-text-color, var(--theme-code-foreground, var(--jp-content-font-color1, white)));\n",
       "    --sklearn-color-icon: #878787;\n",
       "  }\n",
       "}\n",
       "\n",
       "#sk-container-id-2 {\n",
       "  color: var(--sklearn-color-text);\n",
       "}\n",
       "\n",
       "#sk-container-id-2 pre {\n",
       "  padding: 0;\n",
       "}\n",
       "\n",
       "#sk-container-id-2 input.sk-hidden--visually {\n",
       "  border: 0;\n",
       "  clip: rect(1px 1px 1px 1px);\n",
       "  clip: rect(1px, 1px, 1px, 1px);\n",
       "  height: 1px;\n",
       "  margin: -1px;\n",
       "  overflow: hidden;\n",
       "  padding: 0;\n",
       "  position: absolute;\n",
       "  width: 1px;\n",
       "}\n",
       "\n",
       "#sk-container-id-2 div.sk-dashed-wrapped {\n",
       "  border: 1px dashed var(--sklearn-color-line);\n",
       "  margin: 0 0.4em 0.5em 0.4em;\n",
       "  box-sizing: border-box;\n",
       "  padding-bottom: 0.4em;\n",
       "  background-color: var(--sklearn-color-background);\n",
       "}\n",
       "\n",
       "#sk-container-id-2 div.sk-container {\n",
       "  /* jupyter's `normalize.less` sets `[hidden] { display: none; }`\n",
       "     but bootstrap.min.css set `[hidden] { display: none !important; }`\n",
       "     so we also need the `!important` here to be able to override the\n",
       "     default hidden behavior on the sphinx rendered scikit-learn.org.\n",
       "     See: https://github.com/scikit-learn/scikit-learn/issues/21755 */\n",
       "  display: inline-block !important;\n",
       "  position: relative;\n",
       "}\n",
       "\n",
       "#sk-container-id-2 div.sk-text-repr-fallback {\n",
       "  display: none;\n",
       "}\n",
       "\n",
       "div.sk-parallel-item,\n",
       "div.sk-serial,\n",
       "div.sk-item {\n",
       "  /* draw centered vertical line to link estimators */\n",
       "  background-image: linear-gradient(var(--sklearn-color-text-on-default-background), var(--sklearn-color-text-on-default-background));\n",
       "  background-size: 2px 100%;\n",
       "  background-repeat: no-repeat;\n",
       "  background-position: center center;\n",
       "}\n",
       "\n",
       "/* Parallel-specific style estimator block */\n",
       "\n",
       "#sk-container-id-2 div.sk-parallel-item::after {\n",
       "  content: \"\";\n",
       "  width: 100%;\n",
       "  border-bottom: 2px solid var(--sklearn-color-text-on-default-background);\n",
       "  flex-grow: 1;\n",
       "}\n",
       "\n",
       "#sk-container-id-2 div.sk-parallel {\n",
       "  display: flex;\n",
       "  align-items: stretch;\n",
       "  justify-content: center;\n",
       "  background-color: var(--sklearn-color-background);\n",
       "  position: relative;\n",
       "}\n",
       "\n",
       "#sk-container-id-2 div.sk-parallel-item {\n",
       "  display: flex;\n",
       "  flex-direction: column;\n",
       "}\n",
       "\n",
       "#sk-container-id-2 div.sk-parallel-item:first-child::after {\n",
       "  align-self: flex-end;\n",
       "  width: 50%;\n",
       "}\n",
       "\n",
       "#sk-container-id-2 div.sk-parallel-item:last-child::after {\n",
       "  align-self: flex-start;\n",
       "  width: 50%;\n",
       "}\n",
       "\n",
       "#sk-container-id-2 div.sk-parallel-item:only-child::after {\n",
       "  width: 0;\n",
       "}\n",
       "\n",
       "/* Serial-specific style estimator block */\n",
       "\n",
       "#sk-container-id-2 div.sk-serial {\n",
       "  display: flex;\n",
       "  flex-direction: column;\n",
       "  align-items: center;\n",
       "  background-color: var(--sklearn-color-background);\n",
       "  padding-right: 1em;\n",
       "  padding-left: 1em;\n",
       "}\n",
       "\n",
       "\n",
       "/* Toggleable style: style used for estimator/Pipeline/ColumnTransformer box that is\n",
       "clickable and can be expanded/collapsed.\n",
       "- Pipeline and ColumnTransformer use this feature and define the default style\n",
       "- Estimators will overwrite some part of the style using the `sk-estimator` class\n",
       "*/\n",
       "\n",
       "/* Pipeline and ColumnTransformer style (default) */\n",
       "\n",
       "#sk-container-id-2 div.sk-toggleable {\n",
       "  /* Default theme specific background. It is overwritten whether we have a\n",
       "  specific estimator or a Pipeline/ColumnTransformer */\n",
       "  background-color: var(--sklearn-color-background);\n",
       "}\n",
       "\n",
       "/* Toggleable label */\n",
       "#sk-container-id-2 label.sk-toggleable__label {\n",
       "  cursor: pointer;\n",
       "  display: block;\n",
       "  width: 100%;\n",
       "  margin-bottom: 0;\n",
       "  padding: 0.5em;\n",
       "  box-sizing: border-box;\n",
       "  text-align: center;\n",
       "}\n",
       "\n",
       "#sk-container-id-2 label.sk-toggleable__label-arrow:before {\n",
       "  /* Arrow on the left of the label */\n",
       "  content: \"▸\";\n",
       "  float: left;\n",
       "  margin-right: 0.25em;\n",
       "  color: var(--sklearn-color-icon);\n",
       "}\n",
       "\n",
       "#sk-container-id-2 label.sk-toggleable__label-arrow:hover:before {\n",
       "  color: var(--sklearn-color-text);\n",
       "}\n",
       "\n",
       "/* Toggleable content - dropdown */\n",
       "\n",
       "#sk-container-id-2 div.sk-toggleable__content {\n",
       "  max-height: 0;\n",
       "  max-width: 0;\n",
       "  overflow: hidden;\n",
       "  text-align: left;\n",
       "  /* unfitted */\n",
       "  background-color: var(--sklearn-color-unfitted-level-0);\n",
       "}\n",
       "\n",
       "#sk-container-id-2 div.sk-toggleable__content.fitted {\n",
       "  /* fitted */\n",
       "  background-color: var(--sklearn-color-fitted-level-0);\n",
       "}\n",
       "\n",
       "#sk-container-id-2 div.sk-toggleable__content pre {\n",
       "  margin: 0.2em;\n",
       "  border-radius: 0.25em;\n",
       "  color: var(--sklearn-color-text);\n",
       "  /* unfitted */\n",
       "  background-color: var(--sklearn-color-unfitted-level-0);\n",
       "}\n",
       "\n",
       "#sk-container-id-2 div.sk-toggleable__content.fitted pre {\n",
       "  /* unfitted */\n",
       "  background-color: var(--sklearn-color-fitted-level-0);\n",
       "}\n",
       "\n",
       "#sk-container-id-2 input.sk-toggleable__control:checked~div.sk-toggleable__content {\n",
       "  /* Expand drop-down */\n",
       "  max-height: 200px;\n",
       "  max-width: 100%;\n",
       "  overflow: auto;\n",
       "}\n",
       "\n",
       "#sk-container-id-2 input.sk-toggleable__control:checked~label.sk-toggleable__label-arrow:before {\n",
       "  content: \"▾\";\n",
       "}\n",
       "\n",
       "/* Pipeline/ColumnTransformer-specific style */\n",
       "\n",
       "#sk-container-id-2 div.sk-label input.sk-toggleable__control:checked~label.sk-toggleable__label {\n",
       "  color: var(--sklearn-color-text);\n",
       "  background-color: var(--sklearn-color-unfitted-level-2);\n",
       "}\n",
       "\n",
       "#sk-container-id-2 div.sk-label.fitted input.sk-toggleable__control:checked~label.sk-toggleable__label {\n",
       "  background-color: var(--sklearn-color-fitted-level-2);\n",
       "}\n",
       "\n",
       "/* Estimator-specific style */\n",
       "\n",
       "/* Colorize estimator box */\n",
       "#sk-container-id-2 div.sk-estimator input.sk-toggleable__control:checked~label.sk-toggleable__label {\n",
       "  /* unfitted */\n",
       "  background-color: var(--sklearn-color-unfitted-level-2);\n",
       "}\n",
       "\n",
       "#sk-container-id-2 div.sk-estimator.fitted input.sk-toggleable__control:checked~label.sk-toggleable__label {\n",
       "  /* fitted */\n",
       "  background-color: var(--sklearn-color-fitted-level-2);\n",
       "}\n",
       "\n",
       "#sk-container-id-2 div.sk-label label.sk-toggleable__label,\n",
       "#sk-container-id-2 div.sk-label label {\n",
       "  /* The background is the default theme color */\n",
       "  color: var(--sklearn-color-text-on-default-background);\n",
       "}\n",
       "\n",
       "/* On hover, darken the color of the background */\n",
       "#sk-container-id-2 div.sk-label:hover label.sk-toggleable__label {\n",
       "  color: var(--sklearn-color-text);\n",
       "  background-color: var(--sklearn-color-unfitted-level-2);\n",
       "}\n",
       "\n",
       "/* Label box, darken color on hover, fitted */\n",
       "#sk-container-id-2 div.sk-label.fitted:hover label.sk-toggleable__label.fitted {\n",
       "  color: var(--sklearn-color-text);\n",
       "  background-color: var(--sklearn-color-fitted-level-2);\n",
       "}\n",
       "\n",
       "/* Estimator label */\n",
       "\n",
       "#sk-container-id-2 div.sk-label label {\n",
       "  font-family: monospace;\n",
       "  font-weight: bold;\n",
       "  display: inline-block;\n",
       "  line-height: 1.2em;\n",
       "}\n",
       "\n",
       "#sk-container-id-2 div.sk-label-container {\n",
       "  text-align: center;\n",
       "}\n",
       "\n",
       "/* Estimator-specific */\n",
       "#sk-container-id-2 div.sk-estimator {\n",
       "  font-family: monospace;\n",
       "  border: 1px dotted var(--sklearn-color-border-box);\n",
       "  border-radius: 0.25em;\n",
       "  box-sizing: border-box;\n",
       "  margin-bottom: 0.5em;\n",
       "  /* unfitted */\n",
       "  background-color: var(--sklearn-color-unfitted-level-0);\n",
       "}\n",
       "\n",
       "#sk-container-id-2 div.sk-estimator.fitted {\n",
       "  /* fitted */\n",
       "  background-color: var(--sklearn-color-fitted-level-0);\n",
       "}\n",
       "\n",
       "/* on hover */\n",
       "#sk-container-id-2 div.sk-estimator:hover {\n",
       "  /* unfitted */\n",
       "  background-color: var(--sklearn-color-unfitted-level-2);\n",
       "}\n",
       "\n",
       "#sk-container-id-2 div.sk-estimator.fitted:hover {\n",
       "  /* fitted */\n",
       "  background-color: var(--sklearn-color-fitted-level-2);\n",
       "}\n",
       "\n",
       "/* Specification for estimator info (e.g. \"i\" and \"?\") */\n",
       "\n",
       "/* Common style for \"i\" and \"?\" */\n",
       "\n",
       ".sk-estimator-doc-link,\n",
       "a:link.sk-estimator-doc-link,\n",
       "a:visited.sk-estimator-doc-link {\n",
       "  float: right;\n",
       "  font-size: smaller;\n",
       "  line-height: 1em;\n",
       "  font-family: monospace;\n",
       "  background-color: var(--sklearn-color-background);\n",
       "  border-radius: 1em;\n",
       "  height: 1em;\n",
       "  width: 1em;\n",
       "  text-decoration: none !important;\n",
       "  margin-left: 1ex;\n",
       "  /* unfitted */\n",
       "  border: var(--sklearn-color-unfitted-level-1) 1pt solid;\n",
       "  color: var(--sklearn-color-unfitted-level-1);\n",
       "}\n",
       "\n",
       ".sk-estimator-doc-link.fitted,\n",
       "a:link.sk-estimator-doc-link.fitted,\n",
       "a:visited.sk-estimator-doc-link.fitted {\n",
       "  /* fitted */\n",
       "  border: var(--sklearn-color-fitted-level-1) 1pt solid;\n",
       "  color: var(--sklearn-color-fitted-level-1);\n",
       "}\n",
       "\n",
       "/* On hover */\n",
       "div.sk-estimator:hover .sk-estimator-doc-link:hover,\n",
       ".sk-estimator-doc-link:hover,\n",
       "div.sk-label-container:hover .sk-estimator-doc-link:hover,\n",
       ".sk-estimator-doc-link:hover {\n",
       "  /* unfitted */\n",
       "  background-color: var(--sklearn-color-unfitted-level-3);\n",
       "  color: var(--sklearn-color-background);\n",
       "  text-decoration: none;\n",
       "}\n",
       "\n",
       "div.sk-estimator.fitted:hover .sk-estimator-doc-link.fitted:hover,\n",
       ".sk-estimator-doc-link.fitted:hover,\n",
       "div.sk-label-container:hover .sk-estimator-doc-link.fitted:hover,\n",
       ".sk-estimator-doc-link.fitted:hover {\n",
       "  /* fitted */\n",
       "  background-color: var(--sklearn-color-fitted-level-3);\n",
       "  color: var(--sklearn-color-background);\n",
       "  text-decoration: none;\n",
       "}\n",
       "\n",
       "/* Span, style for the box shown on hovering the info icon */\n",
       ".sk-estimator-doc-link span {\n",
       "  display: none;\n",
       "  z-index: 9999;\n",
       "  position: relative;\n",
       "  font-weight: normal;\n",
       "  right: .2ex;\n",
       "  padding: .5ex;\n",
       "  margin: .5ex;\n",
       "  width: min-content;\n",
       "  min-width: 20ex;\n",
       "  max-width: 50ex;\n",
       "  color: var(--sklearn-color-text);\n",
       "  box-shadow: 2pt 2pt 4pt #999;\n",
       "  /* unfitted */\n",
       "  background: var(--sklearn-color-unfitted-level-0);\n",
       "  border: .5pt solid var(--sklearn-color-unfitted-level-3);\n",
       "}\n",
       "\n",
       ".sk-estimator-doc-link.fitted span {\n",
       "  /* fitted */\n",
       "  background: var(--sklearn-color-fitted-level-0);\n",
       "  border: var(--sklearn-color-fitted-level-3);\n",
       "}\n",
       "\n",
       ".sk-estimator-doc-link:hover span {\n",
       "  display: block;\n",
       "}\n",
       "\n",
       "/* \"?\"-specific style due to the `<a>` HTML tag */\n",
       "\n",
       "#sk-container-id-2 a.estimator_doc_link {\n",
       "  float: right;\n",
       "  font-size: 1rem;\n",
       "  line-height: 1em;\n",
       "  font-family: monospace;\n",
       "  background-color: var(--sklearn-color-background);\n",
       "  border-radius: 1rem;\n",
       "  height: 1rem;\n",
       "  width: 1rem;\n",
       "  text-decoration: none;\n",
       "  /* unfitted */\n",
       "  color: var(--sklearn-color-unfitted-level-1);\n",
       "  border: var(--sklearn-color-unfitted-level-1) 1pt solid;\n",
       "}\n",
       "\n",
       "#sk-container-id-2 a.estimator_doc_link.fitted {\n",
       "  /* fitted */\n",
       "  border: var(--sklearn-color-fitted-level-1) 1pt solid;\n",
       "  color: var(--sklearn-color-fitted-level-1);\n",
       "}\n",
       "\n",
       "/* On hover */\n",
       "#sk-container-id-2 a.estimator_doc_link:hover {\n",
       "  /* unfitted */\n",
       "  background-color: var(--sklearn-color-unfitted-level-3);\n",
       "  color: var(--sklearn-color-background);\n",
       "  text-decoration: none;\n",
       "}\n",
       "\n",
       "#sk-container-id-2 a.estimator_doc_link.fitted:hover {\n",
       "  /* fitted */\n",
       "  background-color: var(--sklearn-color-fitted-level-3);\n",
       "}\n",
       "</style><div id=\"sk-container-id-2\" class=\"sk-top-container\"><div class=\"sk-text-repr-fallback\"><pre>LinearRegression()</pre><b>In a Jupyter environment, please rerun this cell to show the HTML representation or trust the notebook. <br />On GitHub, the HTML representation is unable to render, please try loading this page with nbviewer.org.</b></div><div class=\"sk-container\" hidden><div class=\"sk-item\"><div class=\"sk-estimator fitted sk-toggleable\"><input class=\"sk-toggleable__control sk-hidden--visually\" id=\"sk-estimator-id-2\" type=\"checkbox\" checked><label for=\"sk-estimator-id-2\" class=\"sk-toggleable__label fitted sk-toggleable__label-arrow fitted\">&nbsp;&nbsp;LinearRegression<a class=\"sk-estimator-doc-link fitted\" rel=\"noreferrer\" target=\"_blank\" href=\"https://scikit-learn.org/1.5/modules/generated/sklearn.linear_model.LinearRegression.html\">?<span>Documentation for LinearRegression</span></a><span class=\"sk-estimator-doc-link fitted\">i<span>Fitted</span></span></label><div class=\"sk-toggleable__content fitted\"><pre>LinearRegression()</pre></div> </div></div></div></div>"
      ],
      "text/plain": [
       "LinearRegression()"
      ]
     },
     "execution_count": 76,
     "metadata": {},
     "output_type": "execute_result"
    }
   ],
   "source": [
    "reg.fit(X_train, y_train)"
   ]
  },
  {
   "cell_type": "code",
   "execution_count": 78,
   "metadata": {
    "papermill": {
     "duration": 0.033926,
     "end_time": "2021-01-16T18:05:53.784556",
     "exception": false,
     "start_time": "2021-01-16T18:05:53.750630",
     "status": "completed"
    },
    "tags": []
   },
   "outputs": [
    {
     "name": "stdout",
     "output_type": "stream",
     "text": [
      "[ 9.00473609e-01  6.71353564e-01 -5.75912766e-01 -6.30760373e-09]\n"
     ]
    }
   ],
   "source": [
    "print(reg.coef_)"
   ]
  },
  {
   "cell_type": "code",
   "execution_count": 80,
   "metadata": {
    "papermill": {
     "duration": 0.032533,
     "end_time": "2021-01-16T18:05:53.841085",
     "exception": false,
     "start_time": "2021-01-16T18:05:53.808552",
     "status": "completed"
    },
    "tags": []
   },
   "outputs": [
    {
     "name": "stdout",
     "output_type": "stream",
     "text": [
      "0.18475244324366003\n"
     ]
    }
   ],
   "source": [
    "print(reg.intercept_)"
   ]
  },
  {
   "cell_type": "markdown",
   "metadata": {
    "papermill": {
     "duration": 0.023382,
     "end_time": "2021-01-16T18:05:53.887971",
     "exception": false,
     "start_time": "2021-01-16T18:05:53.864589",
     "status": "completed"
    },
    "tags": []
   },
   "source": [
    "### Prediction"
   ]
  },
  {
   "cell_type": "code",
   "execution_count": 82,
   "metadata": {
    "papermill": {
     "duration": 0.032201,
     "end_time": "2021-01-16T18:05:53.944527",
     "exception": false,
     "start_time": "2021-01-16T18:05:53.912326",
     "status": "completed"
    },
    "tags": []
   },
   "outputs": [],
   "source": [
    "predicted = reg.predict(X_test)"
   ]
  },
  {
   "cell_type": "code",
   "execution_count": null,
   "metadata": {
    "papermill": {
     "duration": 0.047661,
     "end_time": "2021-01-16T18:05:54.016387",
     "exception": false,
     "start_time": "2021-01-16T18:05:53.968726",
     "status": "completed"
    },
    "scrolled": true,
    "tags": []
   },
   "outputs": [],
   "source": [
    "print(predicted)"
   ]
  },
  {
   "cell_type": "code",
   "execution_count": null,
   "metadata": {
    "papermill": {
     "duration": 0.047661,
     "end_time": "2021-01-16T18:05:54.016387",
     "exception": false,
     "start_time": "2021-01-16T18:05:53.968726",
     "status": "completed"
    },
    "scrolled": true,
    "tags": []
   },
   "outputs": [
    {
     "name": "stdout",
     "output_type": "stream",
     "text": [
      "[ 41.40017442   7.21187206 144.2669485   61.84820973  98.06330725\n",
      "   5.65252247  46.16093523   5.54269819   5.41016266  64.19506098\n",
      "  72.26558699  41.09036215  43.038594     6.95740005  39.67243013\n",
      " 302.89200101 409.08230948  68.60831879  50.952103    65.6007322\n",
      "  38.68641762  28.10044447 101.36337851  45.83699735  24.27461967\n",
      "  71.0747327    6.70635407   5.42628639   5.80509497   5.59402121\n",
      "   4.19213293   4.33494644   7.16278096  40.46722446  65.96399856\n",
      "   4.38070417  67.5134092    6.5062984   51.74262896  71.63502047\n",
      "   4.291472     7.04851848  41.98387624  69.79186377  52.49169072\n",
      "   8.86689107   6.83915693   7.08443696  38.98874029   4.14313509\n",
      "  70.05125412   5.12666755   4.31650601  66.46385824  49.3168433\n",
      "  41.77517857   5.34955406   6.57786136  48.10563481  47.44517865\n",
      "  70.14469611 130.98327791  49.32517131   5.87248603  59.55618982\n",
      "   6.96552275   6.46641654  52.84061353  43.13347493  50.18612244\n",
      "  52.8175054   61.86531057   6.43703334  43.92342603  61.43302142\n",
      "  44.71338118  28.68013266   5.66286917  60.67459115  47.30224059\n",
      "  50.40158719   4.55851479 376.36596574  47.66503348  50.19229744\n",
      "  39.28002661  60.14656332 183.03692989  33.22370001  60.72673062\n",
      "   5.83115336  45.65913033  39.76133626  73.66527149  61.90388291\n",
      "  41.62924663  58.75809081   5.45019037  61.08599154   5.84214397\n",
      "  67.15315505   7.95029118  64.61438848  71.26006389   5.73593453\n",
      "  89.3147085   51.88182527  64.4837663   68.53134127   5.29387752\n",
      "  56.95929939  44.47012305  47.45997328  64.37495126  42.99502515\n",
      "  32.97375935  45.52969785   6.5013845   61.71427603  37.67896078\n",
      "  42.6149895   41.95700557  47.44770454  49.55309691 154.82829428\n",
      "  40.79921176  39.494244     5.66226252   5.59083619  53.6716489\n",
      "   6.99656948  55.22346532   4.97523891  42.0284214   57.124723\n",
      "  59.29521044  74.21911087   5.00877497  51.611451     6.0843659\n",
      "  58.25885178   5.90030096  43.1096899   47.59393709  36.64984701\n",
      " 302.28443761  19.6379574   49.66517437 163.20614609  53.57671797\n",
      "   4.14783811  45.0538778   49.08659944  35.30118318 366.2917628\n",
      "   5.75990782   4.78107242  58.09149591   4.40027747  62.92876961\n",
      "   5.94214437  51.2690134   70.83188501  65.89419233  86.3688838\n",
      "   6.44278664  48.04534748  59.41945512 139.83330443  43.38737925\n",
      "  42.42124265 111.38996299  71.56659074  72.19126536  40.96132459\n",
      "  53.93281529  55.76252456 435.65536491   7.02108114  42.51595022\n",
      "  45.73508816  67.73535177   6.81616321  42.16927886   3.08381237\n",
      "  50.94732951  63.59441034  48.56254467   6.06198361  63.2455116\n",
      "  29.61180492   5.89521089  55.22194626  47.74455595   4.17487591\n",
      "   4.88059157  60.95107671  49.64086172  36.83976897  63.42815259\n",
      "   4.30631853  40.4613982   65.65857819  57.13196163  47.60993514\n",
      "  48.12602188  45.05616907  75.61437282  56.48859816  61.9300203\n",
      "  55.66889794  27.99809067   6.81876166   4.25922182 201.42982314\n",
      "   7.79717418  27.58289622  42.55002639   6.53445539  38.58452732\n",
      "  48.0698871   46.35567159 202.31672659  40.99042251  68.4515194\n",
      "  63.18905938  48.57626171  50.64132978  74.92403475  68.87056084\n",
      "  50.33250448  70.53063435  44.35446054  40.78604511  24.97728478\n",
      "  39.49686545  43.53587107  48.10446517  37.46212544  62.59656961\n",
      "  66.98556493   5.36388773  63.98709218 422.1465695   70.5301991\n",
      "   6.75389143  62.58013814   6.05032549  52.48625563   7.58147327\n",
      "  49.31414509  50.88287006  58.18266989  57.75700495  64.60069388\n",
      "   6.10664283  47.44420693  29.77757398  49.68750491  71.96322708\n",
      "  65.3625424    5.91247979  46.83555281  50.96582079  69.31038296\n",
      "  44.03785494  36.84536225  42.37965083  48.93917586  32.39315453\n",
      "   5.42381403  71.05775705  75.35547224 428.4817142   48.78275449\n",
      "   5.20989636 306.21726367   5.60020497  45.84855894  52.62887157\n",
      "  48.4511774   40.67468881  40.5027927   45.24716944  42.18568856\n",
      "   4.24818093   7.07807937  62.59152046  42.25990556  95.35439152\n",
      "   6.8102774   64.10196866  41.71224413   6.30593991  48.16173852\n",
      "   7.16484283  37.55392077  43.10226294  69.79526429 101.22088316\n",
      "   7.32246135  66.09850727  51.79452197  41.1063964   71.3413687\n",
      "   6.16660862  39.27000824  72.02525573  43.50266437  59.52803651\n",
      "   5.99007542  63.04756471  39.32824639  34.1280423   46.99301554\n",
      "   4.4865532    6.96956759  66.88455083   4.46067575  46.37663642\n",
      "  50.69013474   5.83208029  46.44376935  43.95284856   6.48030129\n",
      "   7.6596177   40.44677449  70.90591644   7.06815884  50.48368824\n",
      "  69.03855409  40.79907112  39.50209452   5.81487484   4.51799049\n",
      "  67.38594686  62.67808716  44.59187738 177.29774305  49.65551538\n",
      "  70.59726747  40.47414532  41.30580174  68.51654313  28.7639779\n",
      "   5.39295839  37.45908384  44.04451205   5.69374292  46.49013232\n",
      "  49.51826393   5.67250276  40.56430764 162.61764624   6.87591967\n",
      " 195.84705594  59.77859319  42.58450023  57.77764598  48.67992262\n",
      "   5.71037006 413.27793294  45.09957094   6.02603442  96.51576449\n",
      "  39.04323637  51.67853006   6.04376655  56.21154005  52.76040739\n",
      "  52.78886864   6.55319007   6.52507516  46.60604517  82.61094188\n",
      "  53.34898972   6.77039462   4.844167    48.65724527  41.82318948\n",
      "   6.56040251 274.01788541   6.0001196   73.48479403   4.7383212\n",
      "   6.95478128   7.01682101  52.45019634  40.05378916  68.94427631\n",
      "  62.90250632  40.05765666   5.71520386  46.34295626   6.42246989\n",
      "   5.78047551  49.87340192   5.61749732   6.37581084  64.30105506\n",
      "  73.77387829  35.65372974   6.28585283   5.72583548   5.07022972\n",
      "  47.77336675  43.9490018   63.61864249  56.60245932  33.16287138\n",
      "  35.78986569   6.87154537 107.9126187    5.00506044  62.95993616\n",
      "   5.83682353 169.37349655  46.50426377   5.82592683  45.84668537\n",
      "  66.12296876  60.09082685  42.86934301  44.3814051   46.06691399\n",
      " 133.96759418  57.63226016  61.91367228   4.60182398   6.28055413\n",
      "  68.33477682 108.33237654  41.07703877  46.419115    59.64022069\n",
      " 113.56877821  50.94916534  47.46398498  33.45681544  54.41580651\n",
      "  40.92291029  63.6569896   30.65705869  20.29986904  17.76724369\n",
      "  39.37500248  44.50166634 160.89704423  59.0918781  153.11143218\n",
      "   7.18917496  49.18072613  44.73515268   6.31293126  26.60363967\n",
      "  55.20337584  44.37892762  40.91013699  44.9910178   73.68541659\n",
      "  57.24229479  68.83866762  44.93279823   7.19271373  63.43823959\n",
      "   5.46892831  62.72820765  62.57993028   4.95258143   5.65682228\n",
      "  58.70215376  44.14144875  50.38252862  59.3046393   42.99945172\n",
      "  68.18648588  49.11618335  43.75509122  41.64831577   5.23067991\n",
      "  52.80353012   4.24779569   5.12101879   6.18167099  41.33777713\n",
      " 142.55976464  54.4359863   59.43250279  62.48054703  73.3750754\n",
      "  67.72930451  89.53339995  29.70127004  63.59387569  39.00799578\n",
      " 389.72681705   7.73843465  33.26307136  24.6276772    5.84276997\n",
      "   6.40203619  58.22917711  36.41584556   5.09129367   7.10562776\n",
      "  46.54679775  48.68287341 101.52425268  45.9068169   40.9157251\n",
      "  37.47396327  59.47916019  60.17618011  70.49416242  47.4386565\n",
      "  23.64395069  62.40484317   3.9542236   49.0327458   20.07476439\n",
      "  57.72128798  53.06211593  74.752335    45.72622737 153.87717998\n",
      "  47.67524939  40.46118128 199.43195159  50.78150141  41.63640595\n",
      "   5.81562898  44.3005976   29.06983468  60.29320895   4.85684036\n",
      "  52.07338928  46.77320382  45.04154969  48.62683145  44.38283879\n",
      "  51.33179587  42.87587047  51.34179528  35.72043702   6.44992767\n",
      "  52.31072869  68.22930134  59.46547984  43.3571725   20.2598796\n",
      "  60.52041822  47.65212505   5.9839866   62.57557043  70.68380424\n",
      " 298.71413803   5.61829106  75.2050782   49.47257724  47.70913772\n",
      "  52.2799899   45.60747803  69.46728855   6.71577322   3.93485327\n",
      "  40.40445246   6.12408766  67.42742446   5.90850171   5.8804893\n",
      "   5.88943805   4.32634214  48.9079819    8.30006777   6.4799982\n",
      "  37.09328099  38.59686456  45.43041279  53.65158168   7.0303294\n",
      "   6.23599016   6.61812863  48.94505721  45.34946596 174.29899618\n",
      "  43.40870244  49.06190134  60.11000583   6.43852952  43.38339467\n",
      " 296.72110475   7.28212915   4.2617255   39.83450016  65.07491988\n",
      "  42.63169851  62.45509751  69.72164095   5.00988248   7.03381598\n",
      "  46.01761423 375.16313166  50.68835956  45.0595206    5.02477293\n",
      "   6.45153631  62.11264233  44.68800499  50.36558637  66.7657468\n",
      "   5.7099609   46.74946019  18.9936143    6.05516832  32.77534915\n",
      "  50.13326832  10.52545256  43.35503503 157.17457108  32.94745721\n",
      "  47.52781625 187.24259802  68.35179203   3.47797108  41.38807957\n",
      "  23.5382184    5.62494503  62.72850832   5.96309179  62.34757478\n",
      "  47.60379383  48.99834972   5.43633822  60.78945715  17.82777852\n",
      "   7.03556939  45.47384078   5.0212145   39.93460221  70.94473242\n",
      "   4.70897233   4.00220695  55.98628461 239.29520803   6.49164664\n",
      "  69.55011077   4.18206914  75.611408     5.68123922  29.57282991\n",
      "  66.43948838   6.08217433  41.10806335  50.05295523   5.11732368\n",
      "  42.02675847  51.98229009  39.00383775  66.19968533   4.34899526\n",
      "   7.69190307   7.88189737  53.13146369   5.43833222  40.38661086\n",
      "  58.3200052   47.80826085  61.72811744   5.39447229   4.69080438\n",
      "  66.1942499    3.72334346   5.83051757   6.01403767  60.98093679\n",
      "  34.49971826   6.59424308  60.57819228  59.87590877  63.15241675\n",
      " 149.78821854  37.78627309  45.89381883  63.98062202  54.47522072\n",
      "  42.26662511  67.33522511  45.68446596  40.29903596  54.14531946\n",
      "  49.76528765  53.27356015  68.8747349   51.71462517  21.718811\n",
      "  40.15328369   6.98720964  39.3473602    5.88258898   7.87546447\n",
      "  45.89508728  42.31763953 143.31302757  62.39126618   5.84061981\n",
      "   5.77134079   6.8305466   59.9739999   55.00339925  26.6719509\n",
      "  47.26202287  52.21582478  43.02584191   6.62775795  10.88618381\n",
      "   4.86379697 197.54115283   6.49613636   7.30412512   6.67976343\n",
      "  69.49288334  45.62028644  58.79500871  44.27045381   4.7993915\n",
      "   4.37537173  52.44087893   7.29551189  61.35301455  94.47125674\n",
      "  62.94447793  63.59765896  64.57279363  28.13751287  41.7597425\n",
      "  57.19979253  65.30528759  34.97980189   6.20401787   5.44649271\n",
      "  47.79976568  51.11686638  51.05496088   6.08435766  49.86706755\n",
      "  56.98029787  66.81962959   6.18113859  43.09871146  45.62098306\n",
      "   6.4846837    6.96703408   6.71447422  49.84724638   7.57316532\n",
      "   5.01791676  41.36287133   6.44075817  46.29332176  71.59806969\n",
      "  17.93875628   4.93497984   6.91083541  69.29010591  39.61584318\n",
      "  37.19050239  43.93457766  44.08688734  21.77536553 159.91507881\n",
      "  63.37286103   4.05233861  56.60254045  48.10582003]\n"
     ]
    }
   ],
   "source": []
  },
  {
   "cell_type": "markdown",
   "metadata": {
    "papermill": {
     "duration": 0.024526,
     "end_time": "2021-01-16T18:05:54.066152",
     "exception": false,
     "start_time": "2021-01-16T18:05:54.041626",
     "status": "completed"
    },
    "tags": []
   },
   "source": [
    "### Combine the Actual and Predicted data"
   ]
  },
  {
   "cell_type": "code",
   "execution_count": 39,
   "metadata": {
    "papermill": {
     "duration": 0.034722,
     "end_time": "2021-01-16T18:05:54.125984",
     "exception": false,
     "start_time": "2021-01-16T18:05:54.091262",
     "status": "completed"
    },
    "tags": []
   },
   "outputs": [],
   "source": [
    "data1 = pd.DataFrame({'Actual': y_test, 'Predicted' : predicted.flatten()})"
   ]
  },
  {
   "cell_type": "code",
   "execution_count": 41,
   "metadata": {
    "papermill": {
     "duration": 0.041381,
     "end_time": "2021-01-16T18:05:54.192179",
     "exception": false,
     "start_time": "2021-01-16T18:05:54.150798",
     "status": "completed"
    },
    "tags": []
   },
   "outputs": [
    {
     "data": {
      "text/html": [
       "<div>\n",
       "<style scoped>\n",
       "    .dataframe tbody tr th:only-of-type {\n",
       "        vertical-align: middle;\n",
       "    }\n",
       "\n",
       "    .dataframe tbody tr th {\n",
       "        vertical-align: top;\n",
       "    }\n",
       "\n",
       "    .dataframe thead th {\n",
       "        text-align: right;\n",
       "    }\n",
       "</style>\n",
       "<table border=\"1\" class=\"dataframe\">\n",
       "  <thead>\n",
       "    <tr style=\"text-align: right;\">\n",
       "      <th></th>\n",
       "      <th>Actual</th>\n",
       "      <th>Predicted</th>\n",
       "    </tr>\n",
       "  </thead>\n",
       "  <tbody>\n",
       "    <tr>\n",
       "      <th>1475</th>\n",
       "      <td>41.737999</td>\n",
       "      <td>41.400174</td>\n",
       "    </tr>\n",
       "    <tr>\n",
       "      <th>515</th>\n",
       "      <td>7.192000</td>\n",
       "      <td>7.211872</td>\n",
       "    </tr>\n",
       "    <tr>\n",
       "      <th>2433</th>\n",
       "      <td>148.723999</td>\n",
       "      <td>144.266949</td>\n",
       "    </tr>\n",
       "    <tr>\n",
       "      <th>1718</th>\n",
       "      <td>61.726002</td>\n",
       "      <td>61.848210</td>\n",
       "    </tr>\n",
       "    <tr>\n",
       "      <th>2455</th>\n",
       "      <td>96.311996</td>\n",
       "      <td>98.063307</td>\n",
       "    </tr>\n",
       "    <tr>\n",
       "      <th>263</th>\n",
       "      <td>5.516000</td>\n",
       "      <td>5.652522</td>\n",
       "    </tr>\n",
       "    <tr>\n",
       "      <th>2332</th>\n",
       "      <td>46.285999</td>\n",
       "      <td>46.160935</td>\n",
       "    </tr>\n",
       "    <tr>\n",
       "      <th>221</th>\n",
       "      <td>5.320000</td>\n",
       "      <td>5.542698</td>\n",
       "    </tr>\n",
       "    <tr>\n",
       "      <th>312</th>\n",
       "      <td>5.276000</td>\n",
       "      <td>5.410163</td>\n",
       "    </tr>\n",
       "    <tr>\n",
       "      <th>1847</th>\n",
       "      <td>64.015999</td>\n",
       "      <td>64.195061</td>\n",
       "    </tr>\n",
       "    <tr>\n",
       "      <th>2113</th>\n",
       "      <td>70.694000</td>\n",
       "      <td>72.265587</td>\n",
       "    </tr>\n",
       "    <tr>\n",
       "      <th>1208</th>\n",
       "      <td>41.054001</td>\n",
       "      <td>41.090362</td>\n",
       "    </tr>\n",
       "    <tr>\n",
       "      <th>2305</th>\n",
       "      <td>42.816002</td>\n",
       "      <td>43.038594</td>\n",
       "    </tr>\n",
       "    <tr>\n",
       "      <th>463</th>\n",
       "      <td>6.756000</td>\n",
       "      <td>6.957400</td>\n",
       "    </tr>\n",
       "    <tr>\n",
       "      <th>953</th>\n",
       "      <td>39.618000</td>\n",
       "      <td>39.672430</td>\n",
       "    </tr>\n",
       "    <tr>\n",
       "      <th>2535</th>\n",
       "      <td>307.920013</td>\n",
       "      <td>302.892001</td>\n",
       "    </tr>\n",
       "    <tr>\n",
       "      <th>2569</th>\n",
       "      <td>419.619995</td>\n",
       "      <td>409.082309</td>\n",
       "    </tr>\n",
       "    <tr>\n",
       "      <th>1744</th>\n",
       "      <td>69.463997</td>\n",
       "      <td>68.608319</td>\n",
       "    </tr>\n",
       "    <tr>\n",
       "      <th>2344</th>\n",
       "      <td>51.116001</td>\n",
       "      <td>50.952103</td>\n",
       "    </tr>\n",
       "    <tr>\n",
       "      <th>2371</th>\n",
       "      <td>65.987999</td>\n",
       "      <td>65.600732</td>\n",
       "    </tr>\n",
       "  </tbody>\n",
       "</table>\n",
       "</div>"
      ],
      "text/plain": [
       "          Actual   Predicted\n",
       "1475   41.737999   41.400174\n",
       "515     7.192000    7.211872\n",
       "2433  148.723999  144.266949\n",
       "1718   61.726002   61.848210\n",
       "2455   96.311996   98.063307\n",
       "263     5.516000    5.652522\n",
       "2332   46.285999   46.160935\n",
       "221     5.320000    5.542698\n",
       "312     5.276000    5.410163\n",
       "1847   64.015999   64.195061\n",
       "2113   70.694000   72.265587\n",
       "1208   41.054001   41.090362\n",
       "2305   42.816002   43.038594\n",
       "463     6.756000    6.957400\n",
       "953    39.618000   39.672430\n",
       "2535  307.920013  302.892001\n",
       "2569  419.619995  409.082309\n",
       "1744   69.463997   68.608319\n",
       "2344   51.116001   50.952103\n",
       "2371   65.987999   65.600732"
      ]
     },
     "execution_count": 41,
     "metadata": {},
     "output_type": "execute_result"
    }
   ],
   "source": [
    "data1.head(20)"
   ]
  },
  {
   "cell_type": "markdown",
   "metadata": {
    "papermill": {
     "duration": 0.025042,
     "end_time": "2021-01-16T18:05:54.242809",
     "exception": false,
     "start_time": "2021-01-16T18:05:54.217767",
     "status": "completed"
    },
    "tags": []
   },
   "source": [
    "### Mean Absolute Error"
   ]
  },
  {
   "cell_type": "code",
   "execution_count": 44,
   "metadata": {
    "papermill": {
     "duration": 0.040681,
     "end_time": "2021-01-16T18:05:54.308629",
     "exception": false,
     "start_time": "2021-01-16T18:05:54.267948",
     "status": "completed"
    },
    "tags": []
   },
   "outputs": [
    {
     "name": "stdout",
     "output_type": "stream",
     "text": [
      "Mean Absolute Error: 0.5487478031381532\n",
      "Mean Squared Error: 2.4292379298830835\n",
      "Root Mean Squared Error: 1.5586012735408257\n"
     ]
    }
   ],
   "source": [
    "import math\n",
    "print('Mean Absolute Error:', metrics.mean_absolute_error(y_test,predicted))\n",
    "print('Mean Squared Error:', metrics.mean_squared_error(y_test,predicted))\n",
    "print('Root Mean Squared Error:', math.sqrt(metrics.mean_squared_error(y_test,predicted)))"
   ]
  },
  {
   "cell_type": "markdown",
   "metadata": {
    "papermill": {
     "duration": 0.027143,
     "end_time": "2021-01-16T18:05:54.363222",
     "exception": false,
     "start_time": "2021-01-16T18:05:54.336079",
     "status": "completed"
    },
    "tags": []
   },
   "source": [
    "### Plotting Graph "
   ]
  },
  {
   "cell_type": "code",
   "execution_count": 47,
   "metadata": {
    "papermill": {
     "duration": 0.039306,
     "end_time": "2021-01-16T18:05:54.429696",
     "exception": false,
     "start_time": "2021-01-16T18:05:54.390390",
     "status": "completed"
    },
    "tags": []
   },
   "outputs": [],
   "source": [
    "graph = data1.head(20)"
   ]
  },
  {
   "cell_type": "code",
   "execution_count": 49,
   "metadata": {
    "papermill": {
     "duration": 0.392741,
     "end_time": "2021-01-16T18:05:54.852725",
     "exception": false,
     "start_time": "2021-01-16T18:05:54.459984",
     "status": "completed"
    },
    "tags": []
   },
   "outputs": [
    {
     "data": {
      "text/plain": [
       "<Axes: >"
      ]
     },
     "execution_count": 49,
     "metadata": {},
     "output_type": "execute_result"
    },
    {
     "data": {
      "image/png": "[encoded data removed]",
      "text/plain": [
       "<Figure size 640x480 with 1 Axes>"
      ]
     },
     "metadata": {},
     "output_type": "display_data"
    }
   ],
   "source": [
    "graph.plot(kind='bar')"
   ]
  },
  {
   "cell_type": "code",
   "execution_count": 90,
   "metadata": {},
   "outputs": [
    {
     "name": "stdout",
     "output_type": "stream",
     "text": [
      "Predicted Close Price: 819.1257566015325\n"
     ]
    }
   ],
   "source": [
    "# New data point for prediction\n",
    "new_data = np.array([[830, 810, 820, 1600]])\n",
    "\n",
    "# Predicting the close price\n",
    "predicted_price = reg.predict(new_data)\n",
    "print(f\"Predicted Close Price: {predicted_price[0]}\")\n"
   ]
  },
  {
   "cell_type": "code",
   "execution_count": null,
   "metadata": {},
   "outputs": [],
   "source": []
  },
  {
   "cell_type": "code",
   "execution_count": null,
   "metadata": {},
   "outputs": [],
   "source": []
  }
 ],
 "metadata": {
  "kernelspec": {
   "display_name": "Python [conda env:base] *",
   "language": "python",
   "name": "conda-base-py"
  },
  "language_info": {
   "codemirror_mode": {
    "name": "ipython",
    "version": 3
   },
   "file_extension": ".py",
   "mimetype": "text/x-python",
   "name": "python",
   "nbconvert_exporter": "python",
   "pygments_lexer": "ipython3",
   "version": "3.12.7"
  },
  "papermill": {
   "duration": 8.92668,
   "end_time": "2021-01-16T18:05:55.042724",
   "environment_variables": {},
   "exception": null,
   "input_path": "__notebook__.ipynb",
   "output_path": "__notebook__.ipynb",
   "parameters": {},
   "start_time": "2021-01-16T18:05:46.116044",
   "version": "2.1.0"
  }
 },
 "nbformat": 4,
 "nbformat_minor": 4
}
